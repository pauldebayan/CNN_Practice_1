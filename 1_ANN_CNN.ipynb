{
 "cells": [
  {
   "cell_type": "code",
   "execution_count": 19,
   "metadata": {},
   "outputs": [],
   "source": [
    "from torchvision.io import read_image\n",
    "import matplotlib.pyplot as plt\n",
    "import torchvision\n",
    "import torch\n",
    "import os\n",
    "import pandas as pd\n",
    "\n",
    "# import torch\n",
    "# from torchvision import datasets\n",
    "# import torchvision.transforms as transforms\n",
    "# from torch.utils.data import Dataset\n",
    "# from torchvision.transforms import ToTensor\n",
    "# import matplotlib.pyplot as plt\n",
    "# from torch.utils.data import DataLoader\n",
    "from torch import nn"
   ]
  },
  {
   "cell_type": "code",
   "execution_count": 20,
   "metadata": {},
   "outputs": [
    {
     "name": "stdout",
     "output_type": "stream",
     "text": [
      "1_ANN_CNN.ipynb  \u001b[0m\u001b[01;34mimg_dir\u001b[0m/  labels.csv  test.ipynb  \u001b[01;35mturtle.jpg\u001b[0m\n"
     ]
    }
   ],
   "source": [
    "ls"
   ]
  },
  {
   "cell_type": "code",
   "execution_count": 21,
   "metadata": {},
   "outputs": [
    {
     "name": "stdout",
     "output_type": "stream",
     "text": [
      "tensor([[  0., 255., 255.,  ..., 255., 255., 255.],\n",
      "        [255.,   0., 255.,  ..., 255., 255., 255.],\n",
      "        [255., 255.,   0.,  ..., 255., 255., 255.],\n",
      "        ...,\n",
      "        [255., 255., 255.,  ...,   0., 255., 255.],\n",
      "        [255., 255., 255.,  ..., 255.,   0., 255.],\n",
      "        [255., 255., 255.,  ..., 255., 255.,   0.]])\n",
      "torch.Size([50, 50])\n"
     ]
    },
    {
     "data": {
      "image/png": "[encoded data removed]",
      "text/plain": [
       "<Figure size 640x480 with 1 Axes>"
      ]
     },
     "metadata": {},
     "output_type": "display_data"
    }
   ],
   "source": [
    "gen_img = torch.ones([50, 50])*255\n",
    "\n",
    "# Straight Line\n",
    "for i in range(50):\n",
    "    for j in range(50):\n",
    "        if i == j:\n",
    "            gen_img[i][j] = 0\n",
    "\n",
    "# Circle\n",
    "radius = torch.tensor(15)\n",
    "center = 25\n",
    "\n",
    "for i in range(90):\n",
    "    # x = r * cos(θ)\n",
    "    # y = r * sin(θ)\n",
    "\n",
    "    tensor_i = torch.tensor(i)\n",
    "    x = radius * torch.cos(tensor_i)\n",
    "    y = radius * torch.sin(tensor_i)\n",
    "\n",
    "    x = x.int()\n",
    "    y = y.int()\n",
    "\n",
    "    gen_img[x+radius][y-radius] = 0\n",
    "\n",
    "print(gen_img)\n",
    "print(gen_img.shape)\n",
    "plt.imshow(gen_img, cmap=\"gray\")\n",
    "plt.show()"
   ]
  },
  {
   "cell_type": "code",
   "execution_count": 22,
   "metadata": {},
   "outputs": [
    {
     "name": "stdout",
     "output_type": "stream",
     "text": [
      "Image shape before converting to grayscle: torch.Size([3, 50, 50])\n",
      "<built-in method type of Tensor object at 0x7ffabea80860>\n",
      "Image shape after converting to grayscle: torch.Size([1, 50, 50])\n",
      "Image before squeezing: tensor([[[75, 75, 75,  ..., 72, 69, 69],\n",
      "         [75, 75, 75,  ..., 71, 68, 68],\n",
      "         [75, 75, 75,  ..., 69, 69, 69],\n",
      "         ...,\n",
      "         [49, 47, 49,  ..., 39, 35, 35],\n",
      "         [47, 48, 48,  ..., 37, 36, 36],\n",
      "         [46, 48, 48,  ..., 38, 37, 36]]], dtype=torch.uint8)\n",
      "Image after squeezing: tensor([[75, 75, 75,  ..., 72, 69, 69],\n",
      "        [75, 75, 75,  ..., 71, 68, 68],\n",
      "        [75, 75, 75,  ..., 69, 69, 69],\n",
      "        ...,\n",
      "        [49, 47, 49,  ..., 39, 35, 35],\n",
      "        [47, 48, 48,  ..., 37, 36, 36],\n",
      "        [46, 48, 48,  ..., 38, 37, 36]], dtype=torch.uint8)\n",
      "Image shape after squeezing: torch.Size([50, 50])\n"
     ]
    }
   ],
   "source": [
    "img = read_image('./turtle.jpg')\n",
    "\n",
    "print(f\"Image shape before converting to grayscle: {img.shape}\")\n",
    "print(img.type)\n",
    "\n",
    "# RGB to Grayscale\n",
    "img = torchvision.transforms.functional.rgb_to_grayscale(img, 1)\n",
    "print(f\"Image shape after converting to grayscle: {img.shape}\")\n",
    "\n",
    "\n",
    "print(f\"Image before squeezing: {img}\")\n",
    "img = img.squeeze() # Removes channel - [1, W, H] -> [W, H], all input of size 1 removed\n",
    "#img = img.float()/255\n",
    "print(f\"Image after squeezing: {img}\")\n",
    "print(f\"Image shape after squeezing: {img.shape}\")\n",
    "\n",
    "\n"
   ]
  },
  {
   "cell_type": "code",
   "execution_count": 23,
   "metadata": {},
   "outputs": [
    {
     "data": {
      "image/png": "[encoded data removed]",
      "text/plain": [
       "<Figure size 640x480 with 1 Axes>"
      ]
     },
     "metadata": {},
     "output_type": "display_data"
    }
   ],
   "source": [
    "plt.imshow(img, cmap=\"gray\")\n",
    "plt.show()"
   ]
  },
  {
   "cell_type": "markdown",
   "metadata": {},
   "source": [
    "## A Simple Neural Network"
   ]
  },
  {
   "cell_type": "code",
   "execution_count": 24,
   "metadata": {},
   "outputs": [
    {
     "name": "stdout",
     "output_type": "stream",
     "text": [
      "    Feature 1  Feature 2    Y\n",
      "0           1         32   69\n",
      "1          61         77  459\n",
      "2          92         95  650\n",
      "3          72         25  410\n",
      "4          50         75  400\n",
      "..        ...        ...  ...\n",
      "95         57         63  411\n",
      "96         97         83  651\n",
      "97         74         56  482\n",
      "98         92         33  526\n",
      "99         20         47  194\n",
      "\n",
      "[100 rows x 3 columns]\n"
     ]
    }
   ],
   "source": [
    "x1 = torch.randint(1, 100, (100,)) #min, max, size\n",
    "x2 = torch.randint(1, 100, (100,))\n",
    "\n",
    "y = (2*x2+5*x1) # we need to find this formula\n",
    "#y = [(torch.square(y))*111 for y in y] \n",
    "\n",
    "data = {'Feature 1': x1, 'Feature 2': x2, 'Y': y}\n",
    "df = pd.DataFrame(data)\n",
    "\n",
    "print(df)\n"
   ]
  },
  {
   "cell_type": "code",
   "execution_count": 25,
   "metadata": {},
   "outputs": [
    {
     "name": "stdout",
     "output_type": "stream",
     "text": [
      " Feature 1: 1\n",
      " Feature 2: 32\n"
     ]
    }
   ],
   "source": [
    "#loc[#Rows, #Columns], loc is label-based\n",
    "#iloc[:, index], iloc is integer-based\n",
    "\n",
    "#print(df.loc[0]) # Gives the entire row\n",
    "\n",
    "#Fetch row as well as columns\n",
    "# print(df.loc[0:5, \"Feature 2\"])\n",
    "\n",
    "print(f\" Feature 1: {df.iloc[0, 0]}\")\n",
    "print(f\" Feature 2: {df.iloc[0, 1]}\")\n"
   ]
  },
  {
   "cell_type": "code",
   "execution_count": 26,
   "metadata": {},
   "outputs": [],
   "source": [
    "# Train, Validate, Test split\n",
    "\n",
    "train_data = df.iloc[0:60, :]\n",
    "# print(train_data)\n",
    "validate_data = df.iloc[60:80, :]\n",
    "test_data = df.iloc[80:100, :]\n"
   ]
  },
  {
   "cell_type": "code",
   "execution_count": 27,
   "metadata": {},
   "outputs": [],
   "source": [
    "class NeuralNetwork(nn.Module):\n",
    "    def __init__(self):\n",
    "        super().__init__()\n",
    "        #self.flatten = nn.Flatten()\n",
    "        self.linear_relu_stack = nn.Sequential(\n",
    "            nn.Linear(2, 10),\n",
    "            nn.ReLU(),\n",
    "            nn.Linear(10, 5),\n",
    "            nn.ReLU(),\n",
    "            nn.Linear(5, 1),\n",
    "        )\n",
    "\n",
    "    def forward(self, x):\n",
    "        #x = self.flatten(x)\n",
    "        logits = self.linear_relu_stack(x)\n",
    "        return logits"
   ]
  },
  {
   "cell_type": "code",
   "execution_count": 28,
   "metadata": {},
   "outputs": [
    {
     "name": "stdout",
     "output_type": "stream",
     "text": [
      "NeuralNetwork(\n",
      "  (linear_relu_stack): Sequential(\n",
      "    (0): Linear(in_features=2, out_features=10, bias=True)\n",
      "    (1): ReLU()\n",
      "    (2): Linear(in_features=10, out_features=5, bias=True)\n",
      "    (3): ReLU()\n",
      "    (4): Linear(in_features=5, out_features=1, bias=True)\n",
      "  )\n",
      ")\n"
     ]
    }
   ],
   "source": [
    "model = NeuralNetwork()\n",
    "print(model)"
   ]
  },
  {
   "cell_type": "code",
   "execution_count": 29,
   "metadata": {},
   "outputs": [
    {
     "name": "stdout",
     "output_type": "stream",
     "text": [
      "Layer: linear_relu_stack.0.weight | Size: torch.Size([10, 2]) | Values : tensor([[-0.4276,  0.1419],\n",
      "        [ 0.5083,  0.0937]], grad_fn=<SliceBackward0>) \n",
      "\n",
      "Layer: linear_relu_stack.0.bias | Size: torch.Size([10]) | Values : tensor([0.6448, 0.1086], grad_fn=<SliceBackward0>) \n",
      "\n",
      "Layer: linear_relu_stack.2.weight | Size: torch.Size([5, 10]) | Values : tensor([[-0.1530,  0.1358,  0.2989, -0.1555,  0.3022,  0.0703, -0.2958, -0.2653,\n",
      "         -0.1768, -0.1261],\n",
      "        [-0.1424, -0.2270, -0.0463,  0.1583,  0.2762, -0.1619, -0.2065, -0.2083,\n",
      "          0.2546, -0.3022]], grad_fn=<SliceBackward0>) \n",
      "\n",
      "Layer: linear_relu_stack.2.bias | Size: torch.Size([5]) | Values : tensor([-0.1144,  0.2679], grad_fn=<SliceBackward0>) \n",
      "\n",
      "Layer: linear_relu_stack.4.weight | Size: torch.Size([1, 5]) | Values : tensor([[ 0.0467,  0.0626,  0.2498, -0.3979, -0.2949]],\n",
      "       grad_fn=<SliceBackward0>) \n",
      "\n",
      "Layer: linear_relu_stack.4.bias | Size: torch.Size([1]) | Values : tensor([0.4284], grad_fn=<SliceBackward0>) \n",
      "\n"
     ]
    }
   ],
   "source": [
    "for name, param in model.named_parameters():\n",
    "    print(f\"Layer: {name} | Size: {param.size()} | Values : {param[:2]} \\n\")"
   ]
  },
  {
   "cell_type": "code",
   "execution_count": 30,
   "metadata": {},
   "outputs": [],
   "source": [
    "# Change hyperparameters only for Validation dataset\n",
    "\n",
    "learning_rate = 1e-3\n",
    "#batch_size = 2\n",
    "epochs = 100"
   ]
  },
  {
   "cell_type": "code",
   "execution_count": 31,
   "metadata": {},
   "outputs": [],
   "source": [
    "# Initialize the loss function\n",
    "loss_fn = nn.MSELoss()\n",
    "\n",
    "# Use Adam optimizer\n",
    "optimizer = torch.optim.Adam(model.parameters(), lr=learning_rate)"
   ]
  },
  {
   "cell_type": "code",
   "execution_count": 32,
   "metadata": {},
   "outputs": [],
   "source": [
    "\n",
    "# range_x1 = torch.max(x1) - torch.min(x1)\n",
    "# normalized_x1 = [(x - torch.min(x1)) / range_x1 for x in x1]     \n",
    "# print(normalized_x1)\n",
    "\n",
    "# range_x2 = torch.max(x2) - torch.min(x2)\n",
    "# normalized_x2 = [(x - torch.min(x2)) / range_x2 for x in x2]     \n",
    "# print(normalized_x2)"
   ]
  },
  {
   "cell_type": "code",
   "execution_count": 33,
   "metadata": {},
   "outputs": [],
   "source": [
    "def train_loop():\n",
    "    size = len(train_data)\n",
    "    #print(size)\n",
    "\n",
    "    for i in range(size): \n",
    "        \n",
    "        feature1 = torch.tensor(train_data.iloc[i, 0]).float()\n",
    "        feature2 = torch.tensor(train_data.iloc[i, 1]).float()\n",
    "        y = torch.tensor(train_data.iloc[i, 2]).float()\n",
    "\n",
    "        X = torch.stack([feature1, feature2], dim=0)\n",
    "\n",
    "        pred = model(X)\n",
    "        # print(type(pred))\n",
    "        # print(type(y))\n",
    "        loss = loss_fn(pred, y)\n",
    "    \n",
    "        # Backpropagation\n",
    "        loss.backward() # Find Gradients\n",
    "        optimizer.step() # Update weights\n",
    "        optimizer.zero_grad()\n",
    "\n",
    "    \n",
    "        train_loss = loss.item()\n",
    "\n",
    "        #print(f\"Row:{i} - Loss: {loss}\")\n",
    "    return train_loss\n",
    "            "
   ]
  },
  {
   "cell_type": "code",
   "execution_count": 34,
   "metadata": {},
   "outputs": [],
   "source": [
    "def validate_loop():\n",
    "    size = len(validate_data)\n",
    "\n",
    "    for i in range(size): \n",
    "        \n",
    "        feature1 = torch.tensor(validate_data.iloc[i, 0]).float()\n",
    "        feature2 = torch.tensor(validate_data.iloc[i, 1]).float()\n",
    "        y = torch.tensor(validate_data.iloc[i, 2]).float()\n",
    "\n",
    "        X = torch.stack([feature1, feature2], dim=0)\n",
    "\n",
    "        pred = model(X)\n",
    "        loss = loss_fn(pred, y)\n",
    "    \n",
    "        validate_loss = loss.item()\n",
    "\n",
    "    return validate_loss"
   ]
  },
  {
   "cell_type": "code",
   "execution_count": 35,
   "metadata": {},
   "outputs": [],
   "source": [
    "def test_loop():\n",
    "    size = len(test_data)\n",
    "\n",
    "    for i in range(size): \n",
    "        \n",
    "        feature1 = torch.tensor(test_data.iloc[i, 0]).float()\n",
    "        feature2 = torch.tensor(test_data.iloc[i, 1]).float()\n",
    "        y = torch.tensor(test_data.iloc[i, 2]).float()\n",
    "\n",
    "        X = torch.stack([feature1, feature2], dim=0)\n",
    "\n",
    "        pred = model(X)\n",
    "        loss = loss_fn(pred, y)\n",
    "    \n",
    "        test_loss = loss.item()\n",
    "\n",
    "    return test_loss"
   ]
  },
  {
   "cell_type": "code",
   "execution_count": 36,
   "metadata": {},
   "outputs": [
    {
     "name": "stderr",
     "output_type": "stream",
     "text": [
      "/home/deb/Softwares/PyTorchEnv/lib/python3.8/site-packages/torch/nn/modules/loss.py:538: UserWarning: Using a target size (torch.Size([])) that is different to the input size (torch.Size([1])). This will likely lead to incorrect results due to broadcasting. Please ensure they have the same size.\n",
      "  return F.mse_loss(input, target, reduction=self.reduction)\n"
     ]
    },
    {
     "name": "stdout",
     "output_type": "stream",
     "text": [
      "Epoch 1 - Train Loss: 19771.7265625, Valid Loss: 371652.6875, Test Loss: 36802.70703125\n",
      "Epoch 2 - Train Loss: 18090.0234375, Valid Loss: 357382.5, Test Loss: 34365.92578125\n",
      "Epoch 3 - Train Loss: 15198.28125, Valid Loss: 329358.5625, Test Loss: 30169.748046875\n",
      "Epoch 4 - Train Loss: 10951.19140625, Valid Loss: 282633.0, Test Loss: 23386.625\n",
      "Epoch 5 - Train Loss: 5727.65771484375, Valid Loss: 215833.0, Test Loss: 14519.12890625\n",
      "Epoch 6 - Train Loss: 1297.50341796875, Valid Loss: 138031.796875, Test Loss: 5766.3427734375\n",
      "Epoch 7 - Train Loss: 105.4936752319336, Valid Loss: 67257.234375, Test Loss: 564.4938354492188\n",
      "Epoch 8 - Train Loss: 2700.823974609375, Valid Loss: 23620.306640625, Test Loss: 560.0347900390625\n",
      "Epoch 9 - Train Loss: 6070.767578125, Valid Loss: 6769.3203125, Test Loss: 2889.43310546875\n",
      "Epoch 10 - Train Loss: 7684.96923828125, Valid Loss: 2263.950927734375, Test Loss: 4354.1513671875\n",
      "Epoch 11 - Train Loss: 7835.45361328125, Valid Loss: 1138.041015625, Test Loss: 4676.12158203125\n",
      "Epoch 12 - Train Loss: 7418.58544921875, Valid Loss: 780.302734375, Test Loss: 4508.84716796875\n",
      "Epoch 13 - Train Loss: 6860.30859375, Valid Loss: 613.6687622070312, Test Loss: 4204.68408203125\n",
      "Epoch 14 - Train Loss: 6292.71435546875, Valid Loss: 507.02484130859375, Test Loss: 3877.28173828125\n",
      "Epoch 15 - Train Loss: 5751.4873046875, Valid Loss: 425.4510498046875, Test Loss: 3558.962890625\n",
      "Epoch 16 - Train Loss: 5244.02392578125, Valid Loss: 358.5179443359375, Test Loss: 3257.49951171875\n",
      "Epoch 17 - Train Loss: 4770.39599609375, Valid Loss: 302.329833984375, Test Loss: 2974.08154296875\n",
      "Epoch 18 - Train Loss: 4329.1123046875, Valid Loss: 254.83531188964844, Test Loss: 2708.361083984375\n",
      "Epoch 19 - Train Loss: 3918.487548828125, Valid Loss: 214.5963897705078, Test Loss: 2459.67626953125\n",
      "Epoch 20 - Train Loss: 3536.93701171875, Valid Loss: 180.49916076660156, Test Loss: 2227.34716796875\n",
      "Epoch 21 - Train Loss: 3183.0009765625, Valid Loss: 151.6292266845703, Test Loss: 2010.7333984375\n",
      "Epoch 22 - Train Loss: 2855.352783203125, Valid Loss: 127.20463562011719, Test Loss: 1809.234375\n",
      "Epoch 23 - Train Loss: 2552.751953125, Valid Loss: 106.57437133789062, Test Loss: 1622.2791748046875\n",
      "Epoch 24 - Train Loss: 2274.01318359375, Valid Loss: 89.18510437011719, Test Loss: 1449.3045654296875\n",
      "Epoch 25 - Train Loss: 2018.03515625, Valid Loss: 74.54863739013672, Test Loss: 1289.7847900390625\n",
      "Epoch 26 - Train Loss: 1783.732177734375, Valid Loss: 62.261962890625, Test Loss: 1143.1820068359375\n",
      "Epoch 27 - Train Loss: 1570.0450439453125, Valid Loss: 51.976497650146484, Test Loss: 1008.9541015625\n",
      "Epoch 28 - Train Loss: 1375.9349365234375, Valid Loss: 43.38341522216797, Test Loss: 886.5711669921875\n",
      "Epoch 29 - Train Loss: 1200.3673095703125, Valid Loss: 36.220794677734375, Test Loss: 775.4860229492188\n",
      "Epoch 30 - Train Loss: 1042.2998046875, Valid Loss: 30.270145416259766, Test Loss: 675.1259155273438\n",
      "Epoch 31 - Train Loss: 900.6959228515625, Valid Loss: 25.336820602416992, Test Loss: 584.9185180664062\n",
      "Epoch 32 - Train Loss: 774.5089721679688, Valid Loss: 21.256467819213867, Test Loss: 504.2743835449219\n",
      "Epoch 33 - Train Loss: 662.6900634765625, Valid Loss: 17.88808822631836, Test Loss: 432.5918884277344\n",
      "Epoch 34 - Train Loss: 564.17919921875, Valid Loss: 15.115123748779297, Test Loss: 369.2500915527344\n",
      "Epoch 35 - Train Loss: 477.859619140625, Valid Loss: 12.844069480895996, Test Loss: 313.5757141113281\n",
      "Epoch 36 - Train Loss: 402.7886657714844, Valid Loss: 10.966996192932129, Test Loss: 265.0284118652344\n",
      "Epoch 37 - Train Loss: 337.9182434082031, Valid Loss: 9.430191993713379, Test Loss: 222.96026611328125\n",
      "Epoch 38 - Train Loss: 282.2508544921875, Valid Loss: 8.16834831237793, Test Loss: 186.76373291015625\n",
      "Epoch 39 - Train Loss: 234.79940795898438, Valid Loss: 7.097879409790039, Test Loss: 155.84933471679688\n",
      "Epoch 40 - Train Loss: 169.65643310546875, Valid Loss: 5.78739595413208, Test Loss: 130.72532653808594\n",
      "Epoch 41 - Train Loss: 114.56700897216797, Valid Loss: 4.430428981781006, Test Loss: 89.3194580078125\n",
      "Epoch 42 - Train Loss: 69.50235748291016, Valid Loss: 2.4893229007720947, Test Loss: 49.84442901611328\n",
      "Epoch 43 - Train Loss: 46.90878677368164, Valid Loss: 2.2313621044158936, Test Loss: 32.58466339111328\n",
      "Epoch 44 - Train Loss: 35.26985168457031, Valid Loss: 2.1934144496917725, Test Loss: 24.663007736206055\n",
      "Epoch 45 - Train Loss: 26.859046936035156, Valid Loss: 1.9319710731506348, Test Loss: 19.003219604492188\n",
      "Epoch 46 - Train Loss: 20.992633819580078, Valid Loss: 1.591780185699463, Test Loss: 15.095909118652344\n",
      "Epoch 47 - Train Loss: 16.872419357299805, Valid Loss: 1.292684555053711, Test Loss: 12.350394248962402\n",
      "Epoch 48 - Train Loss: 13.970640182495117, Valid Loss: 1.0414361953735352, Test Loss: 10.415038108825684\n",
      "Epoch 49 - Train Loss: 11.962567329406738, Valid Loss: 0.8674994111061096, Test Loss: 9.068979263305664\n",
      "Epoch 50 - Train Loss: 10.574206352233887, Valid Loss: 0.7202812433242798, Test Loss: 8.138111114501953\n",
      "Epoch 51 - Train Loss: 9.597648620605469, Valid Loss: 0.6047378778457642, Test Loss: 7.483734130859375\n",
      "Epoch 52 - Train Loss: 8.906129837036133, Valid Loss: 0.5136227607727051, Test Loss: 7.021739959716797\n",
      "Epoch 53 - Train Loss: 8.413239479064941, Valid Loss: 0.44114112854003906, Test Loss: 6.6937031745910645\n",
      "Epoch 54 - Train Loss: 8.058820724487305, Valid Loss: 0.38265520334243774, Test Loss: 6.459707260131836\n",
      "Epoch 55 - Train Loss: 7.675290584564209, Valid Loss: 0.32033222913742065, Test Loss: 6.204535484313965\n",
      "Epoch 56 - Train Loss: 7.387702465057373, Valid Loss: 0.25281548500061035, Test Loss: 6.0274834632873535\n",
      "Epoch 57 - Train Loss: 7.156702518463135, Valid Loss: 0.19960999488830566, Test Loss: 5.885969161987305\n",
      "Epoch 58 - Train Loss: 6.969113349914551, Valid Loss: 0.15850934386253357, Test Loss: 5.770962238311768\n",
      "Epoch 59 - Train Loss: 6.815608501434326, Valid Loss: 0.12683579325675964, Test Loss: 5.67597770690918\n",
      "Epoch 60 - Train Loss: 6.6890459060668945, Valid Loss: 0.10205341875553131, Test Loss: 5.597365856170654\n",
      "Epoch 61 - Train Loss: 6.549525737762451, Valid Loss: 0.06017223373055458, Test Loss: 5.531927585601807\n",
      "Epoch 62 - Train Loss: 6.404677867889404, Valid Loss: 0.036216989159584045, Test Loss: 5.448978900909424\n",
      "Epoch 63 - Train Loss: 6.272909164428711, Valid Loss: 0.021012965589761734, Test Loss: 5.3692731857299805\n",
      "Epoch 64 - Train Loss: 6.157495021820068, Valid Loss: 0.011434793472290039, Test Loss: 5.297245979309082\n",
      "Epoch 65 - Train Loss: 6.057865619659424, Valid Loss: 0.0055811405181884766, Test Loss: 5.232823848724365\n",
      "Epoch 66 - Train Loss: 5.971720218658447, Valid Loss: 0.0022144652903079987, Test Loss: 5.1759443283081055\n",
      "Epoch 67 - Train Loss: 5.896636009216309, Valid Loss: 0.0005351044237613678, Test Loss: 5.124970436096191\n",
      "Epoch 68 - Train Loss: 5.829834461212158, Valid Loss: 5.09992241859436e-06, Test Loss: 5.078098773956299\n",
      "Epoch 69 - Train Loss: 5.7700090408325195, Valid Loss: 0.0002635866403579712, Test Loss: 5.034865856170654\n",
      "Epoch 70 - Train Loss: 5.739335060119629, Valid Loss: 0.008314982056617737, Test Loss: 5.0319905281066895\n",
      "Epoch 71 - Train Loss: 5.578176498413086, Valid Loss: 0.027927175164222717, Test Loss: 4.944746494293213\n",
      "Epoch 72 - Train Loss: 5.404759407043457, Valid Loss: 0.0495758056640625, Test Loss: 4.833610534667969\n",
      "Epoch 73 - Train Loss: 5.220056533813477, Valid Loss: 0.10456444323062897, Test Loss: 4.737743377685547\n",
      "Epoch 74 - Train Loss: 4.926915168762207, Valid Loss: 0.14715352654457092, Test Loss: 4.52873420715332\n",
      "Epoch 75 - Train Loss: 4.408679962158203, Valid Loss: 0.20234622061252594, Test Loss: 4.157651424407959\n",
      "Epoch 76 - Train Loss: 3.979579448699951, Valid Loss: 0.28835535049438477, Test Loss: 3.8558154106140137\n",
      "Epoch 77 - Train Loss: 3.6261723041534424, Valid Loss: 0.35690122842788696, Test Loss: 3.595784902572632\n",
      "Epoch 78 - Train Loss: 3.357400894165039, Valid Loss: 0.4136914014816284, Test Loss: 3.393733501434326\n",
      "Epoch 79 - Train Loss: 3.1573238372802734, Valid Loss: 0.46097999811172485, Test Loss: 3.2408900260925293\n",
      "Epoch 80 - Train Loss: 3.008850574493408, Valid Loss: 0.5006702542304993, Test Loss: 3.125788927078247\n",
      "Epoch 81 - Train Loss: 2.8978288173675537, Valid Loss: 0.5336737632751465, Test Loss: 3.0381953716278076\n",
      "Epoch 82 - Train Loss: 2.814126968383789, Valid Loss: 0.561401903629303, Test Loss: 2.9706997871398926\n",
      "Epoch 83 - Train Loss: 2.7497894763946533, Valid Loss: 0.5850606560707092, Test Loss: 2.9176554679870605\n",
      "Epoch 84 - Train Loss: 2.699215888977051, Valid Loss: 0.6054025292396545, Test Loss: 2.8747570514678955\n",
      "Epoch 85 - Train Loss: 2.658358573913574, Valid Loss: 0.623583197593689, Test Loss: 2.83911395072937\n",
      "Epoch 86 - Train Loss: 2.526923894882202, Valid Loss: 0.7485249042510986, Test Loss: 2.7613396644592285\n",
      "Epoch 87 - Train Loss: 2.367351531982422, Valid Loss: 0.822838544845581, Test Loss: 2.6387903690338135\n",
      "Epoch 88 - Train Loss: 2.2421791553497314, Valid Loss: 0.8797075152397156, Test Loss: 2.5396499633789062\n",
      "Epoch 89 - Train Loss: 2.150239944458008, Valid Loss: 0.92833411693573, Test Loss: 2.465641736984253\n",
      "Epoch 90 - Train Loss: 2.0821852684020996, Valid Loss: 0.9709177017211914, Test Loss: 2.40998911857605\n",
      "Epoch 91 - Train Loss: 2.0308945178985596, Valid Loss: 1.008685827255249, Test Loss: 2.36716365814209\n",
      "Epoch 92 - Train Loss: 1.991166591644287, Valid Loss: 1.0436797142028809, Test Loss: 2.3333849906921387\n",
      "Epoch 93 - Train Loss: 1.959256649017334, Valid Loss: 1.0761022567749023, Test Loss: 2.305405855178833\n",
      "Epoch 94 - Train Loss: 1.9325649738311768, Valid Loss: 1.10670804977417, Test Loss: 2.281235694885254\n",
      "Epoch 95 - Train Loss: 1.9092175960540771, Valid Loss: 1.1355305910110474, Test Loss: 2.259348154067993\n",
      "Epoch 96 - Train Loss: 1.8880661725997925, Valid Loss: 1.1635383367538452, Test Loss: 2.238844394683838\n",
      "Epoch 97 - Train Loss: 1.8681169748306274, Valid Loss: 1.1902884244918823, Test Loss: 2.2189342975616455\n",
      "Epoch 98 - Train Loss: 1.8487716913223267, Valid Loss: 1.2159961462020874, Test Loss: 2.1988868713378906\n",
      "Epoch 99 - Train Loss: 1.8294031620025635, Valid Loss: 1.2406185865402222, Test Loss: 2.178569793701172\n",
      "Epoch 100 - Train Loss: 1.8099313974380493, Valid Loss: 1.2637031078338623, Test Loss: 2.1574058532714844\n"
     ]
    },
    {
     "data": {
      "image/png": "[encoded data removed]",
      "text/plain": [
       "<Figure size 640x480 with 1 Axes>"
      ]
     },
     "metadata": {},
     "output_type": "display_data"
    }
   ],
   "source": [
    "x = [x+1 for x in range(epochs)]\n",
    "\n",
    "trainLossArr = []\n",
    "validateLossArr = []\n",
    "testLossArr = []\n",
    "\n",
    "for i in range(epochs):\n",
    "    \n",
    "    # Train\n",
    "    train_loss = train_loop()\n",
    "    trainLossArr.append(train_loss)\n",
    "\n",
    "    # Validate\n",
    "    validate_loss = validate_loop()\n",
    "    validateLossArr.append(validate_loss)\n",
    "\n",
    "    # Test\n",
    "    test_loss = test_loop()\n",
    "    testLossArr.append(test_loss)\n",
    "\n",
    "    print(f\"Epoch {i+1} - Train Loss: {train_loss}, Valid Loss: {validate_loss}, Test Loss: {test_loss}\")\n",
    " \n",
    "# print(x)\n",
    "# print(trainLossArr)\n",
    "plt.plot(x, trainLossArr, 'b', label=\"Train\")\n",
    "plt.plot(x, validateLossArr, 'g', label=\"Valid\")\n",
    "plt.plot(x, testLossArr, 'r', label=\"Test\")\n",
    "plt.xlabel(\"Epochs\")\n",
    "plt.ylabel(\"Loss\")\n",
    "plt.show()\n",
    "\n",
    "\n",
    "\n"
   ]
  },
  {
   "cell_type": "code",
   "execution_count": 37,
   "metadata": {},
   "outputs": [
    {
     "name": "stdout",
     "output_type": "stream",
     "text": [
      "tensor(10.)\n",
      "tensor(20.)\n",
      "torch.Size([2])\n",
      "tensor([93.1169], grad_fn=<ViewBackward0>)\n"
     ]
    }
   ],
   "source": [
    "# Manual Testing\n",
    "\n",
    "x1 = torch.tensor(10, dtype=torch.float)\n",
    "x2 = torch.tensor(20, dtype=torch.float)\n",
    "\n",
    "print(x1)\n",
    "print(x2)\n",
    "\n",
    "X = torch.stack([x1, x2], dim=0)\n",
    "\n",
    "print(X.shape)\n",
    "\n",
    "pred = model(X)\n",
    "\n",
    "print(pred)"
   ]
  },
  {
   "cell_type": "code",
   "execution_count": null,
   "metadata": {},
   "outputs": [],
   "source": []
  }
 ],
 "metadata": {
  "kernelspec": {
   "display_name": ".venv",
   "language": "python",
   "name": "python3"
  },
  "language_info": {
   "codemirror_mode": {
    "name": "ipython",
    "version": 3
   },
   "file_extension": ".py",
   "mimetype": "text/x-python",
   "name": "python",
   "nbconvert_exporter": "python",
   "pygments_lexer": "ipython3",
   "version": "3.8.10"
  }
 },
 "nbformat": 4,
 "nbformat_minor": 2
}
