{
 "cells": [
  {
   "cell_type": "code",
   "execution_count": 1,
   "metadata": {},
   "outputs": [],
   "source": [
    "from torchvision.io import read_image\n",
    "import matplotlib.pyplot as plt\n",
    "import torchvision\n",
    "import torch\n",
    "from torch import nn\n",
    "import os\n",
    "import pandas as pd\n",
    "import torchvision.transforms as transforms\n",
    "from torch.utils.data import Dataset\n",
    "from torch.utils.data import DataLoader\n",
    "import torch.nn as nn"
   ]
  },
  {
   "cell_type": "markdown",
   "metadata": {},
   "source": [
    "## A Simple Neural Network"
   ]
  },
  {
   "cell_type": "code",
   "execution_count": null,
   "metadata": {},
   "outputs": [],
   "source": [
    "x1 = torch.randint(1, 100, (100,)) #min, max, size\n",
    "x2 = torch.randint(1, 100, (100,))\n",
    "\n",
    "y = (2*x2+5*x1) # we need to find this formula\n",
    "#y = [(torch.square(y))*111 for y in y] \n",
    "\n",
    "data = {'Feature 1': x1, 'Feature 2': x2, 'Y': y}\n",
    "df = pd.DataFrame(data)\n",
    "\n",
    "print(df)\n"
   ]
  },
  {
   "cell_type": "code",
   "execution_count": null,
   "metadata": {},
   "outputs": [],
   "source": [
    "#loc[#Rows, #Columns], loc is label-based\n",
    "#iloc[:, index], iloc is integer-based\n",
    "\n",
    "#print(df.loc[0]) # Gives the entire row\n",
    "\n",
    "#Fetch row as well as columns\n",
    "# print(df.loc[0:5, \"Feature 2\"])\n",
    "\n",
    "print(f\" Feature 1: {df.iloc[0, 0]}\")\n",
    "print(f\" Feature 2: {df.iloc[0, 1]}\")\n"
   ]
  },
  {
   "cell_type": "code",
   "execution_count": 19,
   "metadata": {},
   "outputs": [],
   "source": [
    "# Train, Validate, Test split\n",
    "\n",
    "train_data = df.iloc[0:60, :]\n",
    "# print(train_data)\n",
    "validate_data = df.iloc[60:80, :]\n",
    "test_data = df.iloc[80:100, :]\n"
   ]
  },
  {
   "cell_type": "code",
   "execution_count": 5,
   "metadata": {},
   "outputs": [],
   "source": [
    "class NeuralNetwork(nn.Module):\n",
    "    def __init__(self):\n",
    "        super().__init__()\n",
    "        #self.flatten = nn.Flatten()\n",
    "        self.linear_relu_stack = nn.Sequential(\n",
    "            nn.Linear(2, 10),\n",
    "            nn.ReLU(),\n",
    "            nn.Linear(10, 5),\n",
    "            nn.ReLU(),\n",
    "            nn.Linear(5, 1),\n",
    "        )\n",
    "\n",
    "    def forward(self, x):\n",
    "        #x = self.flatten(x)\n",
    "        logits = self.linear_relu_stack(x)\n",
    "        return logits"
   ]
  },
  {
   "cell_type": "code",
   "execution_count": null,
   "metadata": {},
   "outputs": [],
   "source": [
    "model = NeuralNetwork()\n",
    "print(model)"
   ]
  },
  {
   "cell_type": "code",
   "execution_count": null,
   "metadata": {},
   "outputs": [],
   "source": [
    "# Initialized weights and biases\n",
    "for name, param in model.named_parameters():\n",
    "    print(f\"Layer: {name} | Size: {param.size()} | Values : {param[:2]} \\n\")"
   ]
  },
  {
   "cell_type": "code",
   "execution_count": 8,
   "metadata": {},
   "outputs": [],
   "source": [
    "# Change hyperparameters only for Validation dataset\n",
    "\n",
    "learning_rate = 1e-3\n",
    "#batch_size = 2\n",
    "epochs = 100"
   ]
  },
  {
   "cell_type": "markdown",
   "metadata": {},
   "source": [
    "<table>\n",
    "    <tr>\n",
    "        <th>Problem Statement</th>\n",
    "        <th>Hidden Layer</th>\n",
    "        <th>Output Layer</th>\n",
    "        <th>Loss Function</th>\n",
    "    </tr>\n",
    "    <tr>\n",
    "        <td>Regression</td>\n",
    "        <td>ReLU</td>\n",
    "        <td>Linear</td>\n",
    "        <td>MSE/MAE/Kuber</td>\n",
    "    </tr>\n",
    "    <tr>\n",
    "        <td>Binary Classification</td>\n",
    "        <td>ReLU</td>\n",
    "        <td>Sigmoid</td>\n",
    "        <td>Binary Cross Entropy</td>\n",
    "    </tr>\n",
    "    <tr>\n",
    "        <td>Multiclass Classification</td>\n",
    "        <td>ReLU</td>\n",
    "        <td>Softmax</td>\n",
    "        <td>Categorical/Sparse Cross Entropy</td>\n",
    "    </tr>\n",
    "</table>"
   ]
  },
  {
   "cell_type": "code",
   "execution_count": 9,
   "metadata": {},
   "outputs": [],
   "source": [
    "# Initialize the loss function\n",
    "loss_fn = nn.MSELoss()\n",
    "\n",
    "# Use Adam optimizer\n",
    "optimizer = torch.optim.Adam(model.parameters(), lr=learning_rate)"
   ]
  },
  {
   "cell_type": "code",
   "execution_count": 10,
   "metadata": {},
   "outputs": [],
   "source": [
    "def train_loop():\n",
    "    size = len(train_data)\n",
    "    #print(size)\n",
    "\n",
    "    for i in range(size): \n",
    "        \n",
    "        feature1 = torch.tensor(train_data.iloc[i, 0]).float()\n",
    "        feature2 = torch.tensor(train_data.iloc[i, 1]).float()\n",
    "        y = torch.tensor(train_data.iloc[i, 2]).float()\n",
    "\n",
    "        X = torch.stack([feature1, feature2], dim=0) #nn.Sequential... nn.Linear(2, 10),\n",
    "\n",
    "        pred = model(X)\n",
    "        # print(type(pred))\n",
    "        # print(type(y))\n",
    "        loss = loss_fn(pred, y)\n",
    "    \n",
    "        # Backpropagation\n",
    "        loss.backward() # Find Gradients\n",
    "        optimizer.step() # Update weights\n",
    "        optimizer.zero_grad()\n",
    "\n",
    "    \n",
    "        train_loss = loss.item()\n",
    "\n",
    "        #print(f\"Row:{i} - Loss: {loss}\")\n",
    "    return train_loss\n",
    "            "
   ]
  },
  {
   "cell_type": "code",
   "execution_count": 11,
   "metadata": {},
   "outputs": [],
   "source": [
    "def validate_loop():\n",
    "    size = len(validate_data)\n",
    "\n",
    "    for i in range(size): \n",
    "        \n",
    "        feature1 = torch.tensor(validate_data.iloc[i, 0]).float()\n",
    "        feature2 = torch.tensor(validate_data.iloc[i, 1]).float()\n",
    "        y = torch.tensor(validate_data.iloc[i, 2]).float()\n",
    "\n",
    "        X = torch.stack([feature1, feature2], dim=0)\n",
    "\n",
    "        pred = model(X)\n",
    "        loss = loss_fn(pred, y)\n",
    "    \n",
    "        validate_loss = loss.item()\n",
    "\n",
    "    return validate_loss"
   ]
  },
  {
   "cell_type": "code",
   "execution_count": null,
   "metadata": {},
   "outputs": [],
   "source": [
    "x = [x+1 for x in range(epochs)]\n",
    "\n",
    "trainLossArr = []\n",
    "validateLossArr = []\n",
    "\n",
    "\n",
    "for i in range(epochs):\n",
    "    \n",
    "    # Train\n",
    "    train_loss = train_loop()\n",
    "    trainLossArr.append(train_loss)\n",
    "\n",
    "    # Validate\n",
    "    validate_loss = validate_loop()\n",
    "    validateLossArr.append(validate_loss)\n",
    "\n",
    "    print(f\"Epoch {i+1} - Training Loss: {train_loss}, Validation Loss: {validate_loss}\")\n",
    " \n",
    "# print(x)\n",
    "# print(trainLossArr)\n",
    "plt.plot(x, trainLossArr, 'b', label=\"Train\")\n",
    "plt.plot(x, validateLossArr, 'g', label=\"Valid\")\n",
    "plt.legend(loc=\"upper right\")\n",
    "plt.xlabel(\"Epochs\")\n",
    "plt.ylabel(\"Loss\")\n",
    "\n",
    "plt.show()\n",
    "\n",
    "\n",
    "\n"
   ]
  },
  {
   "cell_type": "code",
   "execution_count": null,
   "metadata": {},
   "outputs": [],
   "source": [
    "torch.save(model.state_dict(), \"model.pt\")\n",
    "model.load_state_dict(torch.load('model.pt'))"
   ]
  },
  {
   "cell_type": "code",
   "execution_count": null,
   "metadata": {},
   "outputs": [],
   "source": [
    "testLossArr = []\n",
    "x = [x+1 for x in range(epochs)]\n",
    "\n",
    "for epoch in range(epochs):\n",
    "    size = len(test_data)\n",
    "\n",
    "    for i in range(size): \n",
    "        \n",
    "        feature1 = torch.tensor(test_data.iloc[i, 0]).float()\n",
    "        feature2 = torch.tensor(test_data.iloc[i, 1]).float()\n",
    "        y = torch.tensor(test_data.iloc[i, 2]).float()\n",
    "\n",
    "        X = torch.stack([feature1, feature2], dim=0)\n",
    "\n",
    "        pred = model(X)\n",
    "        loss = loss_fn(pred, y)\n",
    "    \n",
    "        test_loss = loss.item()\n",
    "\n",
    "    print(f\"Epoch {epoch+1} - Test Loss: {test_loss}. Accuracy: NOT LOSS\")\n",
    "    testLossArr.append(test_loss)\n",
    "\n",
    "\n",
    "\n",
    "plt.plot(x, testLossArr, 'r', label=\"Test\")\n",
    "plt.legend(loc=\"upper left\")"
   ]
  },
  {
   "cell_type": "code",
   "execution_count": null,
   "metadata": {},
   "outputs": [],
   "source": [
    "# Manual Testing\n",
    "\n",
    "x1 = torch.tensor(10, dtype=torch.float)\n",
    "x2 = torch.tensor(20, dtype=torch.float)\n",
    "\n",
    "print(x1)\n",
    "print(x2)\n",
    "\n",
    "X = torch.stack([x1, x2], dim=0)\n",
    "\n",
    "print(X.shape)\n",
    "\n",
    "pred = model(X)\n",
    "\n",
    "print(pred)"
   ]
  },
  {
   "cell_type": "markdown",
   "metadata": {},
   "source": [
    "## CNN"
   ]
  },
  {
   "cell_type": "markdown",
   "metadata": {},
   "source": [
    "<a href=\"https://www.youtube.com/watch?v=l8_fZPHasdo\">How we see color - RGB</a>"
   ]
  },
  {
   "cell_type": "markdown",
   "metadata": {},
   "source": [
    "RGB Image Channels - 3<br/>\n",
    "Grayscale Image Channels - 1\n",
    "\n",
    "CNN Working:\n",
    "\n",
    "![CNN](images/CNN.jpg)"
   ]
  },
  {
   "cell_type": "code",
   "execution_count": null,
   "metadata": {},
   "outputs": [],
   "source": [
    "# Since a pixel can have values from 0 to 255 \n",
    "# We create a 50x50 image and draw a Circle and a Straight line\n",
    "\n",
    "gen_img = torch.ones([50, 50])*255\n",
    "\n",
    "# Straight Line\n",
    "for i in range(50):\n",
    "    for j in range(50):\n",
    "        if i == j:\n",
    "            gen_img[i][j] = 0\n",
    "\n",
    "# Circle\n",
    "radius = torch.tensor(15)\n",
    "center = 25\n",
    "\n",
    "for i in range(90):\n",
    "    # x = r * cos(θ)\n",
    "    # y = r * sin(θ)\n",
    "\n",
    "    tensor_i = torch.tensor(i)\n",
    "    x = radius * torch.cos(tensor_i)\n",
    "    y = radius * torch.sin(tensor_i)\n",
    "\n",
    "    x = x.int()\n",
    "    y = y.int()\n",
    "\n",
    "    gen_img[x+radius][y-radius] = 0\n",
    "\n",
    "print(gen_img)\n",
    "print(gen_img.shape)\n",
    "plt.imshow(gen_img, cmap=\"gray\")\n",
    "plt.show()\n",
    "\n",
    "# Since it is a image it can also be downloaded\n",
    "torchvision.utils.save_image(gen_img, './images/gen_img.jpg')"
   ]
  },
  {
   "cell_type": "markdown",
   "metadata": {},
   "source": [
    "### YCbCr and RGB\n",
    "<a href=\"https://www.youtube.com/watch?v=3dET-EoIMM8\">YCbCr and RGB<a/>"
   ]
  },
  {
   "cell_type": "code",
   "execution_count": null,
   "metadata": {},
   "outputs": [],
   "source": [
    "# Getting R G B individually from a image \n",
    "rgb_img = read_image('./images/RGB.jpg')\n",
    "\n",
    "#red, green, blue = rgb_img # Can also be accessed with index no. - rgb_img[1]\n",
    "#axs[i].imshow(red)\n",
    "\n",
    "fig, axs = plt.subplots(1, 3, figsize=(6, 4))\n",
    "\n",
    "rgb_list = ['Red', 'Green', 'Blue']\n",
    "\n",
    "for i in range(len(rgb_list)):\n",
    "    axs[i].imshow(rgb_img[i]) # Getting the 3 channels separately\n",
    "    axs[i].set_title(rgb_list[i])\n"
   ]
  },
  {
   "cell_type": "code",
   "execution_count": null,
   "metadata": {},
   "outputs": [],
   "source": [
    "img = read_image('./images/turtle.jpg')\n",
    "\n",
    "print(f\"Before grayscle: {img.shape}\") # [3, 50, 50], Here 3 is channel\n",
    "print(img.type) # Its a Tensor type\n",
    "\n",
    "# RGB to Grayscale\n",
    "img = torchvision.transforms.functional.rgb_to_grayscale(img, 1)\n",
    "print(f\"After grayscle: {img.shape}\") # [3, 50, 50] -> [1, 50, 50]\n",
    "\n",
    "img = img.squeeze() # Removes channel - [1, W, H] -> [W, H], all input of size 1 removed\n",
    "\n",
    "print(f\"Image shape after squeezing: {img.shape}\")"
   ]
  },
  {
   "cell_type": "code",
   "execution_count": null,
   "metadata": {},
   "outputs": [],
   "source": [
    "plt.imshow(img, cmap=\"gray\")\n",
    "plt.show()"
   ]
  },
  {
   "cell_type": "code",
   "execution_count": null,
   "metadata": {},
   "outputs": [],
   "source": [
    "print(img)\n",
    "#torchvision.utils.save_image(img, 'fp.jpg')"
   ]
  },
  {
   "cell_type": "markdown",
   "metadata": {},
   "source": [
    "## CNN from PyTorch Documentation"
   ]
  },
  {
   "cell_type": "code",
   "execution_count": 2,
   "metadata": {},
   "outputs": [],
   "source": [
    "# Custom Dataset from PyTorch Documentation\n",
    "class CustomImageDataset(Dataset):\n",
    "    def __init__(self, annotations_file, img_dir, transform=None, target_transform=None):\n",
    "        self.img_labels = pd.read_csv(annotations_file)\n",
    "        self.img_dir = img_dir\n",
    "        self.transform = transform\n",
    "        self.target_transform = target_transform\n",
    "\n",
    "    def __len__(self):\n",
    "        return len(self.img_labels)\n",
    "\n",
    "    def __getitem__(self, idx):\n",
    "        img_path = os.path.join(self.img_dir, self.img_labels.iloc[idx, 0])\n",
    "        image = read_image(img_path)\n",
    "        label = self.img_labels.iloc[idx, 1]\n",
    "        if self.transform:\n",
    "            image = self.transform(image)\n",
    "        if self.target_transform:\n",
    "            label = self.target_transform(label)\n",
    "\n",
    "        return image, label"
   ]
  },
  {
   "cell_type": "code",
   "execution_count": 3,
   "metadata": {},
   "outputs": [],
   "source": [
    "transform = transforms.Compose([\n",
    "    # transforms.ToTensor(), \n",
    "    # transforms.Normalize((0.5, 0.5, 0.5), (0.5, 0.5, 0.5)), \n",
    "    # transforms.Grayscale()\n",
    "])"
   ]
  },
  {
   "cell_type": "code",
   "execution_count": 4,
   "metadata": {},
   "outputs": [],
   "source": [
    "dataset = CustomImageDataset(img_dir = 'img_dir', \n",
    "                             annotations_file = 'labels.csv', \n",
    "                             transform = transform)"
   ]
  },
  {
   "cell_type": "code",
   "execution_count": 5,
   "metadata": {},
   "outputs": [],
   "source": [
    "train_set, valid_set, test_set = torch.utils.data.random_split(dataset, [0.6, 0.2, 0.2])"
   ]
  },
  {
   "cell_type": "code",
   "execution_count": 6,
   "metadata": {},
   "outputs": [],
   "source": [
    "train_dataloader = DataLoader(train_set, batch_size=1, shuffle=True)\n",
    "valid_dataloader = DataLoader(valid_set, batch_size=1, shuffle=True)\n",
    "test_dataloader = DataLoader(test_set, batch_size=1, shuffle=True)"
   ]
  },
  {
   "cell_type": "markdown",
   "metadata": {},
   "source": [
    "plt.imshow(img) cannot display image if it is [3, H, W] we use img.permute(1, 2, 0) to make it [H, W, 3] for displaying<br/>\n",
    "<a href=\"https://matplotlib.org/3.3.3/api/_as_gen/matplotlib.pyplot.imshow.html\">(M, N, 3)</a>"
   ]
  },
  {
   "cell_type": "code",
   "execution_count": 7,
   "metadata": {},
   "outputs": [
    {
     "name": "stdout",
     "output_type": "stream",
     "text": [
      "Feature batch shape: torch.Size([1, 3, 50, 50])\n",
      "Labels batch shape: torch.Size([1])\n",
      "torch.Size([50, 50, 3])\n"
     ]
    },
    {
     "data": {
      "image/png": "[encoded data removed]",
      "text/plain": [
       "<Figure size 640x480 with 1 Axes>"
      ]
     },
     "metadata": {},
     "output_type": "display_data"
    },
    {
     "name": "stdout",
     "output_type": "stream",
     "text": [
      "Label: 1\n"
     ]
    }
   ],
   "source": [
    "# Display image and label.\n",
    "train_features, train_labels = next(iter(train_dataloader))\n",
    "print(f\"Feature batch shape: {train_features.size()}\")\n",
    "print(f\"Labels batch shape: {train_labels.size()}\")\n",
    "img = train_features[0].permute(1, 2, 0)\n",
    "label = train_labels[0]\n",
    "\n",
    "print(img.shape)\n",
    "#print(img)\n",
    "plt.imshow(img)\n",
    "plt.show()\n",
    "print(f\"Label: {label}\")"
   ]
  },
  {
   "cell_type": "code",
   "execution_count": 43,
   "metadata": {},
   "outputs": [],
   "source": [
    "class CNN(nn.Module):\n",
    "    def __init__(self):\n",
    "        super().__init__()\n",
    "        self.afterFlattenInputNeurons = 900\n",
    "\n",
    "        # Image Shape - torch.Size([50, 50, 3])\n",
    "        # Convolution Layer 1 (sees 50x50x3 image tensor)\n",
    "        self.conv1 = nn.Conv2d(3, 100, 3, padding = 1) # 3 is Channel, 25 is output filtered image, 3 is filter size\n",
    "        \n",
    "        #After adding Maxpooling - dimensionality of the image will decrease\n",
    "        # Formula: output_size = (input_size - filter_size + 1) / stride\n",
    "        \n",
    "        # Convolution Layer 2 (sees 25x25x25 image tensor), Here the last 25 is that mentioned in 2nd parameter of conv1\n",
    "        self.conv2 = nn.Conv2d(100, 50, 3, padding = 1)\n",
    "        # Convolution Layer 3 (sees 12x12x50 image tensor)\n",
    "        self.conv3 = nn.Conv2d(50, 25, 3, padding = 1)\n",
    "\n",
    "        self.pool = nn.MaxPool2d(2, 2) #(filter/kernel size, stride)\n",
    "\n",
    "        self.activ = nn.ReLU()\n",
    "\n",
    "        self.dropout = nn.Dropout(0.25)\n",
    "\n",
    "        self.linear_stack = nn.Sequential(\n",
    "            nn.Linear(self.afterFlattenInputNeurons, 100), \n",
    "            nn.ReLU(),\n",
    "            nn.Linear(100, 50),\n",
    "            nn.ReLU(),\n",
    "            nn.Linear(50, 2),\n",
    "        )\n",
    "\n",
    "    def forward(self, x):\n",
    "        \n",
    "        x = self.pool(self.activ(self.conv1(x)))\n",
    "        x = self.pool(self.activ(self.conv2(x)))\n",
    "        x = self.pool(self.activ(self.conv3(x)))\n",
    "        \n",
    "        # Comment below code to get x output shape from convolution\n",
    "        # Flattening\n",
    "        x = x.view(-1, self.afterFlattenInputNeurons)\n",
    "        # Avoid overfitting\n",
    "        #x = self.dropout(x)\n",
    "        x = self.linear_stack(x)\n",
    "        return x"
   ]
  },
  {
   "cell_type": "code",
   "execution_count": 44,
   "metadata": {},
   "outputs": [
    {
     "name": "stdout",
     "output_type": "stream",
     "text": [
      "CNN(\n",
      "  (conv1): Conv2d(3, 100, kernel_size=(3, 3), stride=(1, 1), padding=(1, 1))\n",
      "  (conv2): Conv2d(100, 50, kernel_size=(3, 3), stride=(1, 1), padding=(1, 1))\n",
      "  (conv3): Conv2d(50, 25, kernel_size=(3, 3), stride=(1, 1), padding=(1, 1))\n",
      "  (pool): MaxPool2d(kernel_size=2, stride=2, padding=0, dilation=1, ceil_mode=False)\n",
      "  (activ): ReLU()\n",
      "  (dropout): Dropout(p=0.25, inplace=False)\n",
      "  (linear_stack): Sequential(\n",
      "    (0): Linear(in_features=1800, out_features=100, bias=True)\n",
      "    (1): ReLU()\n",
      "    (2): Linear(in_features=100, out_features=50, bias=True)\n",
      "    (3): ReLU()\n",
      "    (4): Linear(in_features=50, out_features=2, bias=True)\n",
      "  )\n",
      ")\n"
     ]
    }
   ],
   "source": [
    "model = CNN()\n",
    "print(model)"
   ]
  },
  {
   "cell_type": "code",
   "execution_count": 45,
   "metadata": {},
   "outputs": [
    {
     "name": "stdout",
     "output_type": "stream",
     "text": [
      "Dimension to be put in the first Linear layer torch.Size([1, 25, 6, 6])\n"
     ]
    }
   ],
   "source": [
    "# ONLY TO GET LINEAR LAYER INPUT\n",
    "\n",
    "dataIter = iter(train_dataloader)\n",
    "# Get first item\n",
    "img, label = next(dataIter)\n",
    "\n",
    "# print(img.shape)\n",
    "\n",
    "#afterFlattenInputNeurons\n",
    "print(\"Dimension to be put in the first Linear layer\", model.forward(img.float()).shape)\n",
    "#Dimension to be put in the first Linear layer torch.Size([1, 20, 6, 6]) - 1x20x6x6 = 720\n"
   ]
  },
  {
   "cell_type": "code",
   "execution_count": 35,
   "metadata": {},
   "outputs": [],
   "source": [
    "# Change hyperparameters only for Validation dataset\n",
    "\n",
    "learning_rate = 1e-3\n",
    "#batch_size = 2\n",
    "epochs = 30"
   ]
  },
  {
   "cell_type": "code",
   "execution_count": 36,
   "metadata": {},
   "outputs": [],
   "source": [
    "# Initialize the loss function\n",
    "loss_fn = nn.CrossEntropyLoss()\n",
    "# PyTorch's Cross Entrpy Function applies a Softmax function to the output layer\n",
    "# So we do not mention Softmax activation function to the output layer \n",
    "\n",
    "# Use Adam optimizer\n",
    "optimizer = torch.optim.Adam(model.parameters(), lr=learning_rate)"
   ]
  },
  {
   "cell_type": "code",
   "execution_count": 37,
   "metadata": {},
   "outputs": [],
   "source": [
    "def train_loop():\n",
    "    size = len(train_dataloader)\n",
    "    accumulate_loss = 0\n",
    "    \n",
    "    for img, label in train_dataloader: \n",
    "        # print(img)\n",
    "        # print(label)\n",
    "\n",
    "        pred = model(img.float())\n",
    "        loss = loss_fn(pred, label)\n",
    "    \n",
    "        # Backpropagation\n",
    "        loss.backward() # Find Gradients\n",
    "        optimizer.step() # Update weights\n",
    "        optimizer.zero_grad()\n",
    "\n",
    "        accumulate_loss += loss.item()\n",
    "        #train_loss = loss.item()\n",
    "\n",
    "        \n",
    "    return accumulate_loss/size\n",
    "\n",
    "            "
   ]
  },
  {
   "cell_type": "code",
   "execution_count": 38,
   "metadata": {},
   "outputs": [],
   "source": [
    "def valid_loop():\n",
    "    size = len(valid_dataloader)\n",
    "    accumulate_loss = 0\n",
    "    \n",
    "    for img, label in valid_dataloader: \n",
    "\n",
    "        pred = model(img.float())\n",
    "        loss = loss_fn(pred, label)\n",
    "\n",
    "        accumulate_loss += loss.item()\n",
    "        #train_loss = loss.item()\n",
    "\n",
    "        \n",
    "    return accumulate_loss/size"
   ]
  },
  {
   "cell_type": "code",
   "execution_count": 39,
   "metadata": {},
   "outputs": [
    {
     "name": "stdout",
     "output_type": "stream",
     "text": [
      "Epoch 1 - Training Loss: 0.8430172686775526, Validation Loss: 0.7777695080420624\n",
      "Epoch 2 - Training Loss: 0.6153020445723086, Validation Loss: 0.7866073891005954\n",
      "Epoch 3 - Training Loss: 0.599072126315635, Validation Loss: 0.7719811835610614\n",
      "Epoch 4 - Training Loss: 0.5628613311176499, Validation Loss: 0.5983821490842577\n",
      "Epoch 5 - Training Loss: 0.4023509010219641, Validation Loss: 0.41794741657407336\n",
      "Epoch 6 - Training Loss: 0.7874733534398464, Validation Loss: 0.7376450565333168\n",
      "Epoch 7 - Training Loss: 0.5334257451817394, Validation Loss: 0.640402777508522\n",
      "Epoch 8 - Training Loss: 0.6087816316091145, Validation Loss: 0.44788993369050634\n",
      "Epoch 9 - Training Loss: 0.48627967992401866, Validation Loss: 0.4454706207860416\n",
      "Epoch 10 - Training Loss: 0.5591536652597521, Validation Loss: 0.5262281191981553\n",
      "Epoch 11 - Training Loss: 0.3794185887943513, Validation Loss: 0.37290318776255543\n",
      "Epoch 12 - Training Loss: 0.4745927980556341, Validation Loss: 0.38802905851383307\n",
      "Epoch 13 - Training Loss: 0.34800576533985655, Validation Loss: 0.3576969187933372\n",
      "Epoch 14 - Training Loss: 0.3007996931167316, Validation Loss: 0.24026846301995863\n",
      "Epoch 15 - Training Loss: 0.2228974488812278, Validation Loss: 0.17793286740747655\n",
      "Epoch 16 - Training Loss: 0.9327316144688567, Validation Loss: 0.33273297246517664\n",
      "Epoch 17 - Training Loss: 0.27526362115312014, Validation Loss: 0.18018034298827199\n",
      "Epoch 18 - Training Loss: 0.09411726530707606, Validation Loss: 0.22815631009090065\n",
      "Epoch 19 - Training Loss: 0.16806758184793794, Validation Loss: 0.17281937561870536\n",
      "Epoch 20 - Training Loss: 0.10331334775948248, Validation Loss: 0.21093901693635927\n",
      "Epoch 21 - Training Loss: 0.022709876036087807, Validation Loss: 0.013235797423500392\n",
      "Epoch 22 - Training Loss: 0.012550338303723525, Validation Loss: 0.0025221068796714265\n",
      "Epoch 23 - Training Loss: 0.0019040743953310606, Validation Loss: 0.0013205333027668095\n",
      "Epoch 24 - Training Loss: 0.0010587240432347045, Validation Loss: 0.000850746320018203\n",
      "Epoch 25 - Training Loss: 0.0007212573599975514, Validation Loss: 0.0006019387306539652\n",
      "Epoch 26 - Training Loss: 0.0005037897256677581, Validation Loss: 0.00044033207752545896\n",
      "Epoch 27 - Training Loss: 0.00039080412173575496, Validation Loss: 0.00034786029753940774\n",
      "Epoch 28 - Training Loss: 0.0003027705238645003, Validation Loss: 0.00027614846399046653\n",
      "Epoch 29 - Training Loss: 0.00024772442741737656, Validation Loss: 0.00022251594091725243\n",
      "Epoch 30 - Training Loss: 0.00020588432388244371, Validation Loss: 0.00019056857148799604\n",
      "Epoch 31 - Training Loss: 0.00017384165510243578, Validation Loss: 0.00016163101936233676\n",
      "Epoch 32 - Training Loss: 0.00014975601310448876, Validation Loss: 0.0001401106323116371\n",
      "Epoch 33 - Training Loss: 0.00013007607874359432, Validation Loss: 0.00012054177627867091\n",
      "Epoch 34 - Training Loss: 0.00011353737399050582, Validation Loss: 0.00010675582784003268\n",
      "Epoch 35 - Training Loss: 9.986959342758913e-05, Validation Loss: 9.331977737427147e-05\n",
      "Epoch 36 - Training Loss: 8.877868531556032e-05, Validation Loss: 8.282454365335923e-05\n",
      "Epoch 37 - Training Loss: 7.776519709234246e-05, Validation Loss: 7.36233358081743e-05\n",
      "Epoch 38 - Training Loss: 6.973245083313392e-05, Validation Loss: 6.585821213403639e-05\n",
      "Epoch 39 - Training Loss: 6.275045509755255e-05, Validation Loss: 5.887626044156491e-05\n",
      "Epoch 40 - Training Loss: 5.5891231452302274e-05, Validation Loss: 5.294207235451154e-05\n",
      "Epoch 41 - Training Loss: 5.061695406354261e-05, Validation Loss: 4.772109020265702e-05\n",
      "Epoch 42 - Training Loss: 4.5489015423309335e-05, Validation Loss: 4.3497143300896825e-05\n",
      "Epoch 43 - Training Loss: 4.089712248476947e-05, Validation Loss: 3.940934187992203e-05\n",
      "Epoch 44 - Training Loss: 3.751681978994744e-05, Validation Loss: 3.543315533285352e-05\n",
      "Epoch 45 - Training Loss: 3.3562288749422466e-05, Validation Loss: 3.207845320728116e-05\n",
      "Epoch 46 - Training Loss: 3.066024841338333e-05, Validation Loss: 2.908716985092023e-05\n",
      "Epoch 47 - Training Loss: 2.7776161513178486e-05, Validation Loss: 2.65406386819933e-05\n",
      "Epoch 48 - Training Loss: 2.5414388935018907e-05, Validation Loss: 2.4401317677321307e-05\n",
      "Epoch 49 - Training Loss: 2.3431963418355885e-05, Validation Loss: 2.2258048797496598e-05\n",
      "Epoch 50 - Training Loss: 2.1513176374317785e-05, Validation Loss: 2.0539786975367256e-05\n",
      "Epoch 51 - Training Loss: 1.9572368341987575e-05, Validation Loss: 1.8634760729815033e-05\n",
      "Epoch 52 - Training Loss: 1.801897672185267e-05, Validation Loss: 1.7202504333250582e-05\n",
      "Epoch 53 - Training Loss: 1.6475464234725715e-05, Validation Loss: 1.5760295953863116e-05\n",
      "Epoch 54 - Training Loss: 1.5168284574566353e-05, Validation Loss: 1.4413391121692599e-05\n",
      "Epoch 55 - Training Loss: 1.3883003620307476e-05, Validation Loss: 1.3352586183283203e-05\n",
      "Epoch 56 - Training Loss: 1.2720844795074034e-05, Validation Loss: 1.2335460567314272e-05\n",
      "Epoch 57 - Training Loss: 1.1799059226428691e-05, Validation Loss: 1.1165345751962263e-05\n",
      "Epoch 58 - Training Loss: 1.0835556680888203e-05, Validation Loss: 1.0468058603052555e-05\n",
      "Epoch 59 - Training Loss: 9.915756805038238e-06, Validation Loss: 9.49459426742294e-06\n",
      "Epoch 60 - Training Loss: 9.246269828603696e-06, Validation Loss: 8.886665065214554e-06\n",
      "Epoch 61 - Training Loss: 8.473451736771647e-06, Validation Loss: 8.078099223970033e-06\n",
      "Epoch 62 - Training Loss: 7.849641147927856e-06, Validation Loss: 7.4642153202593896e-06\n",
      "Epoch 63 - Training Loss: 7.219857366536075e-06, Validation Loss: 6.9258287897611124e-06\n",
      "Epoch 64 - Training Loss: 6.655631387649426e-06, Validation Loss: 6.3675652833457734e-06\n",
      "Epoch 65 - Training Loss: 6.170886486008461e-06, Validation Loss: 5.83711851736742e-06\n",
      "Epoch 66 - Training Loss: 5.638445800689359e-06, Validation Loss: 5.447721695972518e-06\n",
      "Epoch 67 - Training Loss: 5.229180965216074e-06, Validation Loss: 5.008657792515692e-06\n",
      "Epoch 68 - Training Loss: 4.855676483472848e-06, Validation Loss: 4.607336494307409e-06\n",
      "Epoch 69 - Training Loss: 4.462302303546532e-06, Validation Loss: 4.2437635916788474e-06\n",
      "Epoch 70 - Training Loss: 4.110652033280833e-06, Validation Loss: 3.975551506603855e-06\n",
      "Epoch 71 - Training Loss: 3.8364841165853625e-06, Validation Loss: 3.63383279982088e-06\n",
      "Epoch 72 - Training Loss: 3.552374180178693e-06, Validation Loss: 3.3457533369585236e-06\n",
      "Epoch 73 - Training Loss: 3.2503881454222967e-06, Validation Loss: 3.085488636263752e-06\n",
      "Epoch 74 - Training Loss: 2.9782024148753787e-06, Validation Loss: 2.8709177159432405e-06\n",
      "Epoch 75 - Training Loss: 2.737804114024319e-06, Validation Loss: 2.648398314164524e-06\n",
      "Epoch 76 - Training Loss: 2.521245576521854e-06, Validation Loss: 2.4556820153046982e-06\n",
      "Epoch 77 - Training Loss: 2.3384623424031285e-06, Validation Loss: 2.2609777590313723e-06\n",
      "Epoch 78 - Training Loss: 2.149718099767976e-06, Validation Loss: 2.0563397198950876e-06\n",
      "Epoch 79 - Training Loss: 1.962961072739707e-06, Validation Loss: 1.8834893991718596e-06\n",
      "Epoch 80 - Training Loss: 1.8099783970863352e-06, Validation Loss: 1.7543489025939607e-06\n",
      "Epoch 81 - Training Loss: 1.666929584113556e-06, Validation Loss: 1.5954056792111259e-06\n",
      "Epoch 82 - Training Loss: 1.5179206708163898e-06, Validation Loss: 1.468250741728146e-06\n",
      "Epoch 83 - Training Loss: 1.4046733861997989e-06, Validation Loss: 1.362951037719995e-06\n",
      "Epoch 84 - Training Loss: 1.2934129680767607e-06, Validation Loss: 1.2556637174772807e-06\n",
      "Epoch 85 - Training Loss: 1.202020242037823e-06, Validation Loss: 1.1602973143472659e-06\n",
      "Epoch 86 - Training Loss: 1.1165878538813938e-06, Validation Loss: 1.0649309574025286e-06\n",
      "Epoch 87 - Training Loss: 1.0251950942100999e-06, Validation Loss: 9.854589394583022e-07\n",
      "Epoch 88 - Training Loss: 9.65590822706493e-07, Validation Loss: 9.258547418511398e-07\n",
      "Epoch 89 - Training Loss: 8.881055030940388e-07, Validation Loss: 8.503562301124627e-07\n",
      "Epoch 90 - Training Loss: 8.245278239134753e-07, Validation Loss: 8.026728615107004e-07\n",
      "Epoch 91 - Training Loss: 7.669103759155859e-07, Validation Loss: 7.430687220496186e-07\n",
      "Epoch 92 - Training Loss: 7.251874574620842e-07, Validation Loss: 6.874380404771804e-07\n",
      "Epoch 93 - Training Loss: 6.655831272202779e-07, Validation Loss: 6.417414322612558e-07\n",
      "Epoch 94 - Training Loss: 6.238601297781088e-07, Validation Loss: 6.039920541193548e-07\n",
      "Epoch 95 - Training Loss: 5.741898908932322e-07, Validation Loss: 5.642557929045703e-07\n",
      "Epoch 96 - Training Loss: 5.404140979455481e-07, Validation Loss: 5.245196017966691e-07\n",
      "Epoch 97 - Training Loss: 5.006778737974098e-07, Validation Loss: 4.947174167805694e-07\n",
      "Epoch 98 - Training Loss: 4.6888887202574853e-07, Validation Loss: 4.4902072341794036e-07\n",
      "Epoch 99 - Training Loss: 4.3908666521967156e-07, Validation Loss: 4.1723172389633115e-07\n",
      "Epoch 100 - Training Loss: 4.1921854598096313e-07, Validation Loss: 3.933899465143516e-07\n"
     ]
    },
    {
     "data": {
      "image/png": "[encoded data removed]",
      "text/plain": [
       "<Figure size 640x480 with 1 Axes>"
      ]
     },
     "metadata": {},
     "output_type": "display_data"
    }
   ],
   "source": [
    "x = [x+1 for x in range(epochs)]\n",
    "\n",
    "trainLossArr = []\n",
    "validLossArr = []\n",
    "\n",
    "for i in range(epochs):\n",
    "    \n",
    "    # Train\n",
    "    train_loss = train_loop()\n",
    "    trainLossArr.append(train_loss)\n",
    "\n",
    "    # Valid\n",
    "    valid_loss = train_loop()\n",
    "    validLossArr.append(valid_loss)\n",
    "\n",
    "    print(f\"Epoch {i+1} - Training Loss: {train_loss}, Validation Loss: {valid_loss}\")\n",
    " \n",
    "\n",
    "plt.plot(x, trainLossArr, 'b', label=\"Train\")\n",
    "plt.plot(x, validLossArr, 'g', label=\"Valid\")\n",
    "plt.legend(loc=\"upper right\")\n",
    "plt.xlabel(\"Epochs\")\n",
    "plt.ylabel(\"Loss\")\n",
    "plt.show()"
   ]
  },
  {
   "cell_type": "code",
   "execution_count": 40,
   "metadata": {},
   "outputs": [
    {
     "name": "stderr",
     "output_type": "stream",
     "text": [
      "/tmp/ipykernel_2906/674528193.py:2: FutureWarning: You are using `torch.load` with `weights_only=False` (the current default value), which uses the default pickle module implicitly. It is possible to construct malicious pickle data which will execute arbitrary code during unpickling (See https://github.com/pytorch/pytorch/blob/main/SECURITY.md#untrusted-models for more details). In a future release, the default value for `weights_only` will be flipped to `True`. This limits the functions that could be executed during unpickling. Arbitrary objects will no longer be allowed to be loaded via this mode unless they are explicitly allowlisted by the user via `torch.serialization.add_safe_globals`. We recommend you start setting `weights_only=True` for any use case where you don't have full control of the loaded file. Please open an issue on GitHub for any issues related to this experimental feature.\n",
      "  model.load_state_dict(torch.load('model.pt'))\n"
     ]
    },
    {
     "data": {
      "text/plain": [
       "<All keys matched successfully>"
      ]
     },
     "execution_count": 40,
     "metadata": {},
     "output_type": "execute_result"
    }
   ],
   "source": [
    "torch.save(model.state_dict(), \"model.pt\")\n",
    "model.load_state_dict(torch.load('model.pt'))"
   ]
  },
  {
   "cell_type": "code",
   "execution_count": 41,
   "metadata": {},
   "outputs": [
    {
     "name": "stdout",
     "output_type": "stream",
     "text": [
      "Accuracy: 73.68421052631578\n"
     ]
    }
   ],
   "source": [
    "correct = 0\n",
    "for img, label in test_dataloader:\n",
    "\n",
    "    pred = model(img.float())\n",
    "\n",
    "    if torch.argmax(pred) == label.squeeze():\n",
    "        correct += 1\n",
    "accuracy = correct/len(test_dataloader)*100\n",
    "print(f\"Accuracy: {accuracy}\")\n"
   ]
  },
  {
   "cell_type": "code",
   "execution_count": null,
   "metadata": {},
   "outputs": [],
   "source": []
  }
 ],
 "metadata": {
  "kernelspec": {
   "display_name": ".venv",
   "language": "python",
   "name": "python3"
  },
  "language_info": {
   "codemirror_mode": {
    "name": "ipython",
    "version": 3
   },
   "file_extension": ".py",
   "mimetype": "text/x-python",
   "name": "python",
   "nbconvert_exporter": "python",
   "pygments_lexer": "ipython3",
   "version": "3.8.10"
  }
 },
 "nbformat": 4,
 "nbformat_minor": 2
}
