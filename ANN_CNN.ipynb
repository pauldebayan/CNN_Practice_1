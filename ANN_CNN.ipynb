{
 "cells": [
  {
   "cell_type": "code",
   "execution_count": 1,
   "metadata": {},
   "outputs": [],
   "source": [
    "from torchvision.io import read_image\n",
    "import matplotlib.pyplot as plt\n",
    "import torchvision\n",
    "import torch\n",
    "from torch import nn\n",
    "import os\n",
    "import pandas as pd\n",
    "import torchvision.transforms as transforms\n",
    "from torch.utils.data import Dataset\n",
    "from torch.utils.data import DataLoader\n",
    "import torch.nn as nn"
   ]
  },
  {
   "cell_type": "markdown",
   "metadata": {},
   "source": [
    "## A Simple Neural Network"
   ]
  },
  {
   "cell_type": "code",
   "execution_count": 2,
   "metadata": {},
   "outputs": [
    {
     "name": "stdout",
     "output_type": "stream",
     "text": [
      "    Feature 1  Feature 2    Y\n",
      "0          37         50  285\n",
      "1          90         17  484\n",
      "2           6         44  118\n",
      "3          97         26  537\n",
      "4           7          2   39\n",
      "..        ...        ...  ...\n",
      "95          7         20   75\n",
      "96         16         80  240\n",
      "97         46         69  368\n",
      "98         68         64  468\n",
      "99         66         64  458\n",
      "\n",
      "[100 rows x 3 columns]\n"
     ]
    }
   ],
   "source": [
    "x1 = torch.randint(1, 100, (100,)) #min, max, size\n",
    "x2 = torch.randint(1, 100, (100,))\n",
    "\n",
    "y = (2*x2+5*x1) # we need to find this formula\n",
    "#y = [(torch.square(y))*111 for y in y] \n",
    "\n",
    "data = {'Feature 1': x1, 'Feature 2': x2, 'Y': y}\n",
    "df = pd.DataFrame(data)\n",
    "\n",
    "print(df)\n"
   ]
  },
  {
   "cell_type": "code",
   "execution_count": 3,
   "metadata": {},
   "outputs": [
    {
     "name": "stdout",
     "output_type": "stream",
     "text": [
      " Feature 1: 37\n",
      " Feature 2: 50\n"
     ]
    }
   ],
   "source": [
    "#loc[#Rows, #Columns], loc is label-based\n",
    "#iloc[:, index], iloc is integer-based\n",
    "\n",
    "#print(df.loc[0]) # Gives the entire row\n",
    "\n",
    "#Fetch row as well as columns\n",
    "# print(df.loc[0:5, \"Feature 2\"])\n",
    "\n",
    "print(f\" Feature 1: {df.iloc[0, 0]}\")\n",
    "print(f\" Feature 2: {df.iloc[0, 1]}\")\n"
   ]
  },
  {
   "cell_type": "code",
   "execution_count": 4,
   "metadata": {},
   "outputs": [],
   "source": [
    "# Train, Validate, Test split\n",
    "\n",
    "train_data = df.iloc[0:60, :]\n",
    "# print(train_data)\n",
    "validate_data = df.iloc[60:80, :]\n",
    "test_data = df.iloc[80:100, :]\n"
   ]
  },
  {
   "cell_type": "code",
   "execution_count": 5,
   "metadata": {},
   "outputs": [],
   "source": [
    "class NeuralNetwork(nn.Module):\n",
    "    def __init__(self):\n",
    "        super().__init__()\n",
    "        #self.flatten = nn.Flatten()\n",
    "        self.linear_relu_stack = nn.Sequential(\n",
    "            nn.Linear(2, 10),\n",
    "            nn.ReLU(),\n",
    "            nn.Linear(10, 5),\n",
    "            nn.ReLU(),\n",
    "            nn.Linear(5, 1),\n",
    "        )\n",
    "\n",
    "    def forward(self, x):\n",
    "        #x = self.flatten(x)\n",
    "        logits = self.linear_relu_stack(x)\n",
    "        return logits"
   ]
  },
  {
   "cell_type": "code",
   "execution_count": 6,
   "metadata": {},
   "outputs": [
    {
     "name": "stdout",
     "output_type": "stream",
     "text": [
      "NeuralNetwork(\n",
      "  (linear_relu_stack): Sequential(\n",
      "    (0): Linear(in_features=2, out_features=10, bias=True)\n",
      "    (1): ReLU()\n",
      "    (2): Linear(in_features=10, out_features=5, bias=True)\n",
      "    (3): ReLU()\n",
      "    (4): Linear(in_features=5, out_features=1, bias=True)\n",
      "  )\n",
      ")\n"
     ]
    }
   ],
   "source": [
    "model = NeuralNetwork()\n",
    "print(model)"
   ]
  },
  {
   "cell_type": "code",
   "execution_count": 7,
   "metadata": {},
   "outputs": [
    {
     "name": "stdout",
     "output_type": "stream",
     "text": [
      "Layer: linear_relu_stack.0.weight | Size: torch.Size([10, 2]) | Values : tensor([[-0.2387, -0.3420],\n",
      "        [ 0.2009,  0.6936]], grad_fn=<SliceBackward0>) \n",
      "\n",
      "Layer: linear_relu_stack.0.bias | Size: torch.Size([10]) | Values : tensor([-0.6243,  0.0203], grad_fn=<SliceBackward0>) \n",
      "\n",
      "Layer: linear_relu_stack.2.weight | Size: torch.Size([5, 10]) | Values : tensor([[-0.1621,  0.1016,  0.2972,  0.2417, -0.2186, -0.0628, -0.2029,  0.1840,\n",
      "         -0.2025,  0.1911],\n",
      "        [-0.3063,  0.0881, -0.3028,  0.2012, -0.1594, -0.3139,  0.0430, -0.0671,\n",
      "          0.1912,  0.1274]], grad_fn=<SliceBackward0>) \n",
      "\n",
      "Layer: linear_relu_stack.2.bias | Size: torch.Size([5]) | Values : tensor([-0.2769, -0.0100], grad_fn=<SliceBackward0>) \n",
      "\n",
      "Layer: linear_relu_stack.4.weight | Size: torch.Size([1, 5]) | Values : tensor([[ 0.1709,  0.0318,  0.2271,  0.1976, -0.3184]],\n",
      "       grad_fn=<SliceBackward0>) \n",
      "\n",
      "Layer: linear_relu_stack.4.bias | Size: torch.Size([1]) | Values : tensor([-0.3139], grad_fn=<SliceBackward0>) \n",
      "\n"
     ]
    }
   ],
   "source": [
    "# Initialized weights and biases\n",
    "for name, param in model.named_parameters():\n",
    "    print(f\"Layer: {name} | Size: {param.size()} | Values : {param[:2]} \\n\")"
   ]
  },
  {
   "cell_type": "code",
   "execution_count": 8,
   "metadata": {},
   "outputs": [],
   "source": [
    "# Change hyperparameters only for Validation dataset\n",
    "\n",
    "learning_rate = 1e-3\n",
    "#batch_size = 2\n",
    "epochs = 200"
   ]
  },
  {
   "cell_type": "markdown",
   "metadata": {},
   "source": [
    "<table>\n",
    "    <tr>\n",
    "        <th>Problem Statement</th>\n",
    "        <th>Hidden Layer</th>\n",
    "        <th>Output Layer</th>\n",
    "        <th>Loss Function</th>\n",
    "    </tr>\n",
    "    <tr>\n",
    "        <td>Regression</td>\n",
    "        <td>ReLU</td>\n",
    "        <td>Linear</td>\n",
    "        <td>MSE/MAE/Kuber</td>\n",
    "    </tr>\n",
    "    <tr>\n",
    "        <td>Binary Classification</td>\n",
    "        <td>ReLU</td>\n",
    "        <td>Sigmoid</td>\n",
    "        <td>Binary Cross Entropy</td>\n",
    "    </tr>\n",
    "    <tr>\n",
    "        <td>Multiclass Classification</td>\n",
    "        <td>ReLU</td>\n",
    "        <td>Softmax</td>\n",
    "        <td>Categorical/Sparse Cross Entropy</td>\n",
    "    </tr>\n",
    "</table>"
   ]
  },
  {
   "cell_type": "code",
   "execution_count": 9,
   "metadata": {},
   "outputs": [],
   "source": [
    "# Initialize the loss function\n",
    "loss_fn = nn.MSELoss()\n",
    "\n",
    "# Use Adam optimizer\n",
    "optimizer = torch.optim.Adam(model.parameters(), lr=learning_rate)"
   ]
  },
  {
   "cell_type": "code",
   "execution_count": 10,
   "metadata": {},
   "outputs": [],
   "source": [
    "def train_loop():\n",
    "    size = len(train_data)\n",
    "    #print(size)\n",
    "\n",
    "    accumulate_loss = 0\n",
    "    for i in range(size): \n",
    "        \n",
    "        feature1 = torch.tensor(train_data.iloc[i, 0]).float()\n",
    "        feature2 = torch.tensor(train_data.iloc[i, 1]).float()\n",
    "        y = torch.tensor(train_data.iloc[i, 2]).float()\n",
    "\n",
    "        X = torch.stack([feature1, feature2], dim=0) #nn.Sequential... nn.Linear(2, 10),\n",
    "\n",
    "        pred = model(X)\n",
    "        # print(type(pred))\n",
    "        # print(type(y))\n",
    "        loss = loss_fn(pred, y)\n",
    "    \n",
    "        # Backpropagation\n",
    "        loss.backward() # Find Gradients\n",
    "        optimizer.step() # Update weights\n",
    "        optimizer.zero_grad()\n",
    "\n",
    "    \n",
    "        accumulate_loss += loss.item()\n",
    "\n",
    "    return accumulate_loss/size\n",
    "            "
   ]
  },
  {
   "cell_type": "code",
   "execution_count": 11,
   "metadata": {},
   "outputs": [],
   "source": [
    "def validate_loop():\n",
    "    size = len(validate_data)\n",
    "\n",
    "    accumulate_loss = 0\n",
    "    for i in range(size): \n",
    "        \n",
    "        feature1 = torch.tensor(validate_data.iloc[i, 0]).float()\n",
    "        feature2 = torch.tensor(validate_data.iloc[i, 1]).float()\n",
    "        y = torch.tensor(validate_data.iloc[i, 2]).float()\n",
    "\n",
    "        X = torch.stack([feature1, feature2], dim=0)\n",
    "\n",
    "        pred = model(X)\n",
    "        loss = loss_fn(pred, y)\n",
    "    \n",
    "        accumulate_loss += loss.item()\n",
    "\n",
    "    return accumulate_loss/size"
   ]
  },
  {
   "cell_type": "code",
   "execution_count": 12,
   "metadata": {},
   "outputs": [
    {
     "name": "stderr",
     "output_type": "stream",
     "text": [
      "/home/deb/Softwares/PyTorchEnv/lib/python3.8/site-packages/torch/nn/modules/loss.py:538: UserWarning: Using a target size (torch.Size([])) that is different to the input size (torch.Size([1])). This will likely lead to incorrect results due to broadcasting. Please ensure they have the same size.\n",
      "  return F.mse_loss(input, target, reduction=self.reduction)\n"
     ]
    },
    {
     "name": "stdout",
     "output_type": "stream",
     "text": [
      "Epoch 1 - Training Loss: 141144.01715901692, Validation Loss: 152026.726953125\n",
      "Epoch 2 - Training Loss: 131708.69645792645, Validation Loss: 138016.3791015625\n",
      "Epoch 3 - Training Loss: 115258.67358398438, Validation Loss: 114989.25849609375\n",
      "Epoch 4 - Training Loss: 90347.49402872722, Validation Loss: 83143.1478515625\n",
      "Epoch 5 - Training Loss: 59308.69246470134, Validation Loss: 48386.56140136719\n",
      "Epoch 6 - Training Loss: 30144.315710639952, Validation Loss: 21094.156298828126\n",
      "Epoch 7 - Training Loss: 11889.97274601857, Validation Loss: 8225.403221797944\n",
      "Epoch 8 - Training Loss: 5127.024030405903, Validation Loss: 4442.656161463261\n",
      "Epoch 9 - Training Loss: 3317.039415866385, Validation Loss: 3218.241344404407\n",
      "Epoch 10 - Training Loss: 2567.6628033161164, Validation Loss: 2506.6317295074464\n",
      "Epoch 11 - Training Loss: 2036.8928862998882, Validation Loss: 1964.6903116226197\n",
      "Epoch 12 - Training Loss: 1610.5095287164363, Validation Loss: 1530.090596294403\n",
      "Epoch 13 - Training Loss: 1263.0325156647712, Validation Loss: 1178.6211426734924\n",
      "Epoch 14 - Training Loss: 983.061665853858, Validation Loss: 903.8292241096497\n",
      "Epoch 15 - Training Loss: 759.3292845636606, Validation Loss: 688.279740691185\n",
      "Epoch 16 - Training Loss: 580.3859183639288, Validation Loss: 518.4106602430344\n",
      "Epoch 17 - Training Loss: 439.09730322553463, Validation Loss: 386.34390246868134\n",
      "Epoch 18 - Training Loss: 329.2406374682983, Validation Loss: 285.547511613369\n",
      "Epoch 19 - Training Loss: 246.033950535208, Validation Loss: 209.37456692755222\n",
      "Epoch 20 - Training Loss: 182.66525768637658, Validation Loss: 152.46780682876707\n",
      "Epoch 21 - Training Loss: 135.0580288003509, Validation Loss: 110.6196199864149\n",
      "Epoch 22 - Training Loss: 99.81843058491746, Validation Loss: 80.37080253362656\n",
      "Epoch 23 - Training Loss: 74.13877773969435, Validation Loss: 58.89672066569328\n",
      "Epoch 24 - Training Loss: 55.7061841281907, Validation Loss: 43.92719344645739\n",
      "Epoch 25 - Training Loss: 42.66739281285554, Validation Loss: 33.680787621438505\n",
      "Epoch 26 - Training Loss: 33.56873209712406, Validation Loss: 26.789880495518446\n",
      "Epoch 27 - Training Loss: 27.292850678181274, Validation Loss: 22.22652613148093\n",
      "Epoch 28 - Training Loss: 23.000210176547988, Validation Loss: 19.237627227650954\n",
      "Epoch 29 - Training Loss: 20.069137489112716, Validation Loss: 17.278862023726106\n",
      "Epoch 30 - Training Loss: 18.04988999312433, Validation Loss: 15.976937294006348\n",
      "Epoch 31 - Training Loss: 16.634229993028566, Validation Loss: 15.07243543495424\n",
      "Epoch 32 - Training Loss: 15.594347025407478, Validation Loss: 14.399582201289013\n",
      "Epoch 33 - Training Loss: 14.801890824005628, Validation Loss: 13.85763389589265\n",
      "Epoch 34 - Training Loss: 14.164651299407705, Validation Loss: 13.38225279385224\n",
      "Epoch 35 - Training Loss: 13.623047075234354, Validation Loss: 12.936624138150364\n",
      "Epoch 36 - Training Loss: 13.140131562963749, Validation Loss: 12.500480136508122\n",
      "Epoch 37 - Training Loss: 12.69011263162829, Validation Loss: 12.06046023108065\n",
      "Epoch 38 - Training Loss: 12.24597275404958, Validation Loss: 11.60895271934569\n",
      "Epoch 39 - Training Loss: 11.816671446043378, Validation Loss: 11.155447482317687\n",
      "Epoch 40 - Training Loss: 11.400077478432406, Validation Loss: 10.702190676517784\n",
      "Epoch 41 - Training Loss: 10.994960880155364, Validation Loss: 10.250744780898094\n",
      "Epoch 42 - Training Loss: 10.599110894169037, Validation Loss: 9.802949102967977\n",
      "Epoch 43 - Training Loss: 10.212137764071425, Validation Loss: 9.36100488603115\n",
      "Epoch 44 - Training Loss: 9.836559941386804, Validation Loss: 8.928071391582488\n",
      "Epoch 45 - Training Loss: 9.470719707089787, Validation Loss: 8.503784166276455\n",
      "Epoch 46 - Training Loss: 9.114267495103801, Validation Loss: 8.089447716996073\n",
      "Epoch 47 - Training Loss: 8.780866497879227, Validation Loss: 7.725231592357159\n",
      "Epoch 48 - Training Loss: 8.493524199475845, Validation Loss: 7.372354144975543\n",
      "Epoch 49 - Training Loss: 8.210926604115715, Validation Loss: 7.026356569677591\n",
      "Epoch 50 - Training Loss: 7.932929014135152, Validation Loss: 6.688079104945063\n",
      "Epoch 51 - Training Loss: 7.6597113324950135, Validation Loss: 6.358167074620724\n",
      "Epoch 52 - Training Loss: 7.391571822063997, Validation Loss: 6.03729680404067\n",
      "Epoch 53 - Training Loss: 7.1287256776976085, Validation Loss: 5.72382120937109\n",
      "Epoch 54 - Training Loss: 6.870329742770021, Validation Loss: 5.418492417037487\n",
      "Epoch 55 - Training Loss: 6.617188337802266, Validation Loss: 5.1240258775651455\n",
      "Epoch 56 - Training Loss: 6.370102215449636, Validation Loss: 4.840606037527323\n",
      "Epoch 57 - Training Loss: 6.129152603509525, Validation Loss: 4.5685458444058895\n",
      "Epoch 58 - Training Loss: 5.8944982191702975, Validation Loss: 4.307886169850827\n",
      "Epoch 59 - Training Loss: 5.666391575165714, Validation Loss: 4.059091936796904\n",
      "Epoch 60 - Training Loss: 5.444836374154935, Validation Loss: 3.8219491437077524\n",
      "Epoch 61 - Training Loss: 5.23005098917832, Validation Loss: 3.5968372896313667\n",
      "Epoch 62 - Training Loss: 5.021958318181957, Validation Loss: 3.383778839558363\n",
      "Epoch 63 - Training Loss: 4.820765155398598, Validation Loss: 3.1827018544077874\n",
      "Epoch 64 - Training Loss: 4.626502624029914, Validation Loss: 2.98267258182168\n",
      "Epoch 65 - Training Loss: 4.436901214707177, Validation Loss: 2.793298528715968\n",
      "Epoch 66 - Training Loss: 4.250750179542228, Validation Loss: 2.6594237074255944\n",
      "Epoch 67 - Training Loss: 4.071425850134498, Validation Loss: 2.561633659899235\n",
      "Epoch 68 - Training Loss: 3.8995367281294118, Validation Loss: 2.4675408519804476\n",
      "Epoch 69 - Training Loss: 3.7350474243517966, Validation Loss: 2.37650788500905\n",
      "Epoch 70 - Training Loss: 3.5778101799078286, Validation Loss: 2.2883661013562233\n",
      "Epoch 71 - Training Loss: 3.4277613473124804, Validation Loss: 2.2029571917373687\n",
      "Epoch 72 - Training Loss: 3.318883172298471, Validation Loss: 2.135040262527764\n",
      "Epoch 73 - Training Loss: 3.2136008128368605, Validation Loss: 2.0612515423912554\n",
      "Epoch 74 - Training Loss: 3.109954851710548, Validation Loss: 1.9866582132875918\n",
      "Epoch 75 - Training Loss: 3.006526449493443, Validation Loss: 1.9118345776572823\n",
      "Epoch 76 - Training Loss: 2.9036645762001476, Validation Loss: 1.8391259089112282\n",
      "Epoch 77 - Training Loss: 2.8030675581501177, Validation Loss: 1.7684177994728087\n",
      "Epoch 78 - Training Loss: 2.703148286867266, Validation Loss: 1.697536538215354\n",
      "Epoch 79 - Training Loss: 2.60389027952527, Validation Loss: 1.632247024588287\n",
      "Epoch 80 - Training Loss: 2.5090120056954524, Validation Loss: 1.5688784450758249\n",
      "Epoch 81 - Training Loss: 2.416810326992224, Validation Loss: 1.50858159144409\n",
      "Epoch 82 - Training Loss: 2.3273456085007638, Validation Loss: 1.4513280404731632\n",
      "Epoch 83 - Training Loss: 2.24002797761932, Validation Loss: 1.3961030557751655\n",
      "Epoch 84 - Training Loss: 2.1548517210719487, Validation Loss: 1.3423758197575808\n",
      "Epoch 85 - Training Loss: 2.0718381605111063, Validation Loss: 1.2901174567639828\n",
      "Epoch 86 - Training Loss: 1.9910461324887971, Validation Loss: 1.2394538804888726\n",
      "Epoch 87 - Training Loss: 1.912487536808476, Validation Loss: 1.190196941792965\n",
      "Epoch 88 - Training Loss: 1.8361510457315793, Validation Loss: 1.1425004750490189\n",
      "Epoch 89 - Training Loss: 1.763289965953057, Validation Loss: 1.0986586486920715\n",
      "Epoch 90 - Training Loss: 1.6934337346814572, Validation Loss: 1.0562943652272225\n",
      "Epoch 91 - Training Loss: 1.6255837364743153, Validation Loss: 1.0152886882424355\n",
      "Epoch 92 - Training Loss: 1.565475790388882, Validation Loss: 0.9818810775876046\n",
      "Epoch 93 - Training Loss: 1.5140833781876912, Validation Loss: 0.9456861194223165\n",
      "Epoch 94 - Training Loss: 1.461390667175874, Validation Loss: 0.9078475620597601\n",
      "Epoch 95 - Training Loss: 1.409663708275184, Validation Loss: 0.8709454764146358\n",
      "Epoch 96 - Training Loss: 1.3588685634545983, Validation Loss: 0.8348940404132008\n",
      "Epoch 97 - Training Loss: 1.3091066842277845, Validation Loss: 0.7996523221954703\n",
      "Epoch 98 - Training Loss: 1.260362705681473, Validation Loss: 0.7651062235236168\n",
      "Epoch 99 - Training Loss: 1.2139965067928036, Validation Loss: 0.7322253923863172\n",
      "Epoch 100 - Training Loss: 1.1686361397771785, Validation Loss: 0.6998865498229861\n",
      "Epoch 101 - Training Loss: 1.1241143425305684, Validation Loss: 0.6679660797584802\n",
      "Epoch 102 - Training Loss: 1.0804989431829501, Validation Loss: 0.6365018974989652\n",
      "Epoch 103 - Training Loss: 1.0378311846250048, Validation Loss: 0.6054897364694625\n",
      "Epoch 104 - Training Loss: 0.9961114246553431, Validation Loss: 0.5748710912186652\n",
      "Epoch 105 - Training Loss: 0.9554206046275795, Validation Loss: 0.5446585260331631\n",
      "Epoch 106 - Training Loss: 0.9157961282413453, Validation Loss: 0.5149380629882216\n",
      "Epoch 107 - Training Loss: 0.8772729684443523, Validation Loss: 0.48579837679862975\n",
      "Epoch 108 - Training Loss: 0.8398764976145079, Validation Loss: 0.457324953796342\n",
      "Epoch 109 - Training Loss: 0.8036184404200564, Validation Loss: 0.4296537498012185\n",
      "Epoch 110 - Training Loss: 0.7685413928702474, Validation Loss: 0.4028927834704518\n",
      "Epoch 111 - Training Loss: 0.7346367093889664, Validation Loss: 0.3771905338391662\n",
      "Epoch 112 - Training Loss: 0.7041142164263874, Validation Loss: 0.35391294383443894\n",
      "Epoch 113 - Training Loss: 0.6740877239499241, Validation Loss: 0.3325717164669186\n",
      "Epoch 114 - Training Loss: 0.645059354075541, Validation Loss: 0.3119921179953963\n",
      "Epoch 115 - Training Loss: 0.6168442234862596, Validation Loss: 0.2923260646872222\n",
      "Epoch 116 - Training Loss: 0.589530170833071, Validation Loss: 0.2737344490364194\n",
      "Epoch 117 - Training Loss: 0.5630758360959589, Validation Loss: 0.2562368447892368\n",
      "Epoch 118 - Training Loss: 0.5375355177248518, Validation Loss: 0.24002410620450973\n",
      "Epoch 119 - Training Loss: 0.5129461006921096, Validation Loss: 0.22522996780462562\n",
      "Epoch 120 - Training Loss: 0.48929952181254827, Validation Loss: 0.21196871609427034\n",
      "Epoch 121 - Training Loss: 0.4666303599408517, Validation Loss: 0.20048353001475333\n",
      "Epoch 122 - Training Loss: 0.4449687881705662, Validation Loss: 0.19023183942772448\n",
      "Epoch 123 - Training Loss: 0.4242901136633009, Validation Loss: 0.1819173595868051\n",
      "Epoch 124 - Training Loss: 0.40458698468282817, Validation Loss: 0.17578792842105032\n",
      "Epoch 125 - Training Loss: 0.3858477397977064, Validation Loss: 0.17204373953863977\n",
      "Epoch 126 - Training Loss: 0.3676973650231957, Validation Loss: 0.17080377591773868\n",
      "Epoch 127 - Training Loss: 0.3504461354886492, Validation Loss: 0.1720420265570283\n",
      "Epoch 128 - Training Loss: 0.33379808471848565, Validation Loss: 0.17560125595191495\n",
      "Epoch 129 - Training Loss: 0.3175934163737111, Validation Loss: 0.18081523791188375\n",
      "Epoch 130 - Training Loss: 0.30160992219268035, Validation Loss: 0.18652746682055293\n",
      "Epoch 131 - Training Loss: 0.28559897606028245, Validation Loss: 0.19111103778705002\n",
      "Epoch 132 - Training Loss: 0.26937230304271603, Validation Loss: 0.19285059859976172\n",
      "Epoch 133 - Training Loss: 0.25280825428975123, Validation Loss: 0.19005938810296358\n",
      "Epoch 134 - Training Loss: 0.23604865362867714, Validation Loss: 0.1820347254164517\n",
      "Epoch 135 - Training Loss: 0.21940404993171495, Validation Loss: 0.1691594561561942\n",
      "Epoch 136 - Training Loss: 0.20334392421646044, Validation Loss: 0.15267316889949142\n",
      "Epoch 137 - Training Loss: 0.18833011188544332, Validation Loss: 0.1346287349704653\n",
      "Epoch 138 - Training Loss: 0.17477753123578926, Validation Loss: 0.11685903090983629\n",
      "Epoch 139 - Training Loss: 0.16284609032251562, Validation Loss: 0.10075240577571094\n",
      "Epoch 140 - Training Loss: 0.15257344946730883, Validation Loss: 0.08704891400411725\n",
      "Epoch 141 - Training Loss: 0.14379069942127293, Validation Loss: 0.07590180101105944\n",
      "Epoch 142 - Training Loss: 0.13632360823685302, Validation Loss: 0.06713009091326967\n",
      "Epoch 143 - Training Loss: 0.12996255184989422, Validation Loss: 0.060409662418533114\n",
      "Epoch 144 - Training Loss: 0.12468954112458354, Validation Loss: 0.05518417884595692\n",
      "Epoch 145 - Training Loss: 0.12036165083215261, Validation Loss: 0.05135329873301089\n",
      "Epoch 146 - Training Loss: 0.11671387952907632, Validation Loss: 0.04899351886706427\n",
      "Epoch 147 - Training Loss: 0.11673359980341047, Validation Loss: 0.04642650079913437\n",
      "Epoch 148 - Training Loss: 0.11447275790463513, Validation Loss: 0.04425715482793748\n",
      "Epoch 149 - Training Loss: 0.10902720321901142, Validation Loss: 0.043765793461352585\n",
      "Epoch 150 - Training Loss: 0.1089331957977265, Validation Loss: 0.04315921999514103\n",
      "Epoch 151 - Training Loss: 0.10643623283443351, Validation Loss: 0.043804931640625\n",
      "Epoch 152 - Training Loss: 0.1003850056634595, Validation Loss: 0.04940409758128226\n",
      "Epoch 153 - Training Loss: 0.09872123950626702, Validation Loss: 0.05534744574688375\n",
      "Epoch 154 - Training Loss: 0.09495386920655922, Validation Loss: 0.0629003387875855\n",
      "Epoch 155 - Training Loss: 0.08882931713402892, Validation Loss: 0.07360859042964876\n",
      "Epoch 156 - Training Loss: 0.08660432699834927, Validation Loss: 0.07893241555429995\n",
      "Epoch 157 - Training Loss: 0.08207247427199035, Validation Loss: 0.08450067904777825\n",
      "Epoch 158 - Training Loss: 0.08102692804144075, Validation Loss: 0.08340172464959324\n",
      "Epoch 159 - Training Loss: 0.07857804292580113, Validation Loss: 0.08076919438317418\n",
      "Epoch 160 - Training Loss: 0.07894558512683338, Validation Loss: 0.07322065187618136\n",
      "Epoch 161 - Training Loss: 0.07889875915231338, Validation Loss: 0.06048710029572248\n",
      "Epoch 162 - Training Loss: 0.07845510606809208, Validation Loss: 0.045871727354824546\n",
      "Epoch 163 - Training Loss: 0.07889308834758897, Validation Loss: 0.030237685702741147\n",
      "Epoch 164 - Training Loss: 0.0779204665722015, Validation Loss: 0.020483842631801964\n",
      "Epoch 165 - Training Loss: 0.07591041137930006, Validation Loss: 0.031192665779963137\n",
      "Epoch 166 - Training Loss: 0.07544759309384971, Validation Loss: 0.07598846964538097\n",
      "Epoch 167 - Training Loss: 0.07926554888642083, Validation Loss: 0.15083205704577268\n",
      "Epoch 168 - Training Loss: 0.09017823405641441, Validation Loss: 0.2185059956391342\n",
      "Epoch 169 - Training Loss: 0.10165612691780553, Validation Loss: 0.23938370757969096\n",
      "Epoch 170 - Training Loss: 0.10575227222871035, Validation Loss: 0.22396068405359984\n",
      "Epoch 171 - Training Loss: 0.09885385340312496, Validation Loss: 0.2061824504402466\n",
      "Epoch 172 - Training Loss: 0.09098246980768938, Validation Loss: 0.19080554777756334\n",
      "Epoch 173 - Training Loss: 0.08410700379560392, Validation Loss: 0.18554520774632693\n",
      "Epoch 174 - Training Loss: 0.07916058711804605, Validation Loss: 0.1844214567099698\n",
      "Epoch 175 - Training Loss: 0.07978097462813215, Validation Loss: 0.1996720359195024\n",
      "Epoch 176 - Training Loss: 0.08320623528076491, Validation Loss: 0.22648506063269452\n",
      "Epoch 177 - Training Loss: 0.09302653674191484, Validation Loss: 0.2831845600157976\n",
      "Epoch 178 - Training Loss: 0.10997074268137415, Validation Loss: 0.34356975117698313\n",
      "Epoch 179 - Training Loss: 0.14029300310260925, Validation Loss: 0.48581599481403825\n",
      "Epoch 180 - Training Loss: 0.1822418613708578, Validation Loss: 0.5079911623150111\n",
      "Epoch 181 - Training Loss: 0.18924626940473294, Validation Loss: 0.5316605262458325\n",
      "Epoch 182 - Training Loss: 0.19032080891386915, Validation Loss: 0.5022361285984516\n",
      "Epoch 183 - Training Loss: 0.18913000590982848, Validation Loss: 0.5626231940463186\n",
      "Epoch 184 - Training Loss: 0.20309131257648308, Validation Loss: 0.5204986516386271\n",
      "Epoch 185 - Training Loss: 0.1886734842012326, Validation Loss: 0.5122354328632355\n",
      "Epoch 186 - Training Loss: 0.18446389821280415, Validation Loss: 0.5191013671457767\n",
      "Epoch 187 - Training Loss: 0.19406020744645502, Validation Loss: 0.5764091616496444\n",
      "Epoch 188 - Training Loss: 0.20774826719425618, Validation Loss: 0.5266817968338728\n",
      "Epoch 189 - Training Loss: 0.18613043801548582, Validation Loss: 0.47358528301119807\n",
      "Epoch 190 - Training Loss: 0.17855071077744167, Validation Loss: 0.5594713499769568\n",
      "Epoch 191 - Training Loss: 0.2081234432174824, Validation Loss: 0.587236238643527\n",
      "Epoch 192 - Training Loss: 0.20748794993851333, Validation Loss: 0.47244316190481184\n",
      "Epoch 193 - Training Loss: 0.173945342306979, Validation Loss: 0.4848224319517612\n",
      "Epoch 194 - Training Loss: 0.18485303151343638, Validation Loss: 0.580283647030592\n",
      "Epoch 195 - Training Loss: 0.2146894665279736, Validation Loss: 0.5661023959517479\n",
      "Epoch 196 - Training Loss: 0.20636986821579437, Validation Loss: 0.4752050556242466\n",
      "Epoch 197 - Training Loss: 0.17418589319180075, Validation Loss: 0.4505320893600583\n",
      "Epoch 198 - Training Loss: 0.17238150684861467, Validation Loss: 0.5429214611649513\n",
      "Epoch 199 - Training Loss: 0.21531505020102487, Validation Loss: 0.6665682941675186\n",
      "Epoch 200 - Training Loss: 0.24239469688230506, Validation Loss: 0.4609460886567831\n"
     ]
    },
    {
     "data": {
      "image/png": "[encoded data removed]",
      "text/plain": [
       "<Figure size 640x480 with 1 Axes>"
      ]
     },
     "metadata": {},
     "output_type": "display_data"
    }
   ],
   "source": [
    "x = [x+1 for x in range(epochs)]\n",
    "\n",
    "trainLossArr = []\n",
    "validateLossArr = []\n",
    "\n",
    "\n",
    "for i in range(epochs):\n",
    "    \n",
    "    # Train\n",
    "    train_loss = train_loop()\n",
    "    trainLossArr.append(train_loss)\n",
    "\n",
    "    # Validate\n",
    "    validate_loss = validate_loop()\n",
    "    validateLossArr.append(validate_loss)\n",
    "\n",
    "    print(f\"Epoch {i+1} - Training Loss: {train_loss}, Validation Loss: {validate_loss}\")\n",
    " \n",
    "# print(x)\n",
    "# print(trainLossArr)\n",
    "plt.plot(x, trainLossArr, 'b', label=\"Train\")\n",
    "plt.plot(x, validateLossArr, 'g', label=\"Valid\")\n",
    "plt.legend(loc=\"upper right\")\n",
    "plt.xlabel(\"Epochs\")\n",
    "plt.ylabel(\"Loss\")\n",
    "\n",
    "plt.show()"
   ]
  },
  {
   "cell_type": "code",
   "execution_count": 13,
   "metadata": {},
   "outputs": [
    {
     "data": {
      "text/plain": [
       "<All keys matched successfully>"
      ]
     },
     "execution_count": 13,
     "metadata": {},
     "output_type": "execute_result"
    }
   ],
   "source": [
    "torch.save(model.state_dict(), 'model.pt')\n",
    "model.load_state_dict(torch.load('model.pt', weights_only=True))\n",
    "#model.eval()"
   ]
  },
  {
   "cell_type": "code",
   "execution_count": 22,
   "metadata": {},
   "outputs": [
    {
     "name": "stdout",
     "output_type": "stream",
     "text": [
      "Accracy: 75.0\n"
     ]
    }
   ],
   "source": [
    "size = len(test_data)\n",
    "\n",
    "correct = 0\n",
    "for i in range(size): \n",
    "    \n",
    "    feature1 = torch.tensor(test_data.iloc[i, 0]).float()\n",
    "    feature2 = torch.tensor(test_data.iloc[i, 1]).float()\n",
    "    y = torch.tensor(test_data.iloc[i, 2]).float()\n",
    "\n",
    "    X = torch.stack([feature1, feature2], dim=0)\n",
    "\n",
    "    pred = model(X)\n",
    "\n",
    "    if pred.squeeze().int() == y:\n",
    "        correct += 1\n",
    "\n",
    "accuracy = correct/size*100\n",
    "\n",
    "print(f\"Accracy: {accuracy}\")\n",
    "\n",
    "\n"
   ]
  },
  {
   "cell_type": "code",
   "execution_count": null,
   "metadata": {},
   "outputs": [],
   "source": [
    "# Manual Testing\n",
    "\n",
    "x1 = torch.tensor(10, dtype=torch.float)\n",
    "x2 = torch.tensor(20, dtype=torch.float)\n",
    "\n",
    "print(x1)\n",
    "print(x2)\n",
    "\n",
    "X = torch.stack([x1, x2], dim=0)\n",
    "\n",
    "print(X.shape)\n",
    "\n",
    "pred = model(X)\n",
    "\n",
    "print(pred)"
   ]
  },
  {
   "cell_type": "markdown",
   "metadata": {},
   "source": [
    "## CNN"
   ]
  },
  {
   "cell_type": "markdown",
   "metadata": {},
   "source": [
    "<a href=\"https://www.youtube.com/watch?v=l8_fZPHasdo\">How we see color - RGB</a>"
   ]
  },
  {
   "cell_type": "markdown",
   "metadata": {},
   "source": [
    "RGB Image Channels - 3<br/>\n",
    "Grayscale Image Channels - 1\n",
    "\n",
    "CNN Working:\n",
    "\n",
    "![CNN](images/CNN.jpg)"
   ]
  },
  {
   "cell_type": "code",
   "execution_count": null,
   "metadata": {},
   "outputs": [],
   "source": [
    "# Since a pixel can have values from 0 to 255 \n",
    "# We create a 50x50 image and draw a Circle and a Straight line\n",
    "\n",
    "gen_img = torch.ones([50, 50])*255\n",
    "\n",
    "# Straight Line\n",
    "for i in range(50):\n",
    "    for j in range(50):\n",
    "        if i == j:\n",
    "            gen_img[i][j] = 0\n",
    "\n",
    "# Circle\n",
    "radius = torch.tensor(15)\n",
    "center = 25\n",
    "\n",
    "for i in range(90):\n",
    "    # x = r * cos(θ)\n",
    "    # y = r * sin(θ)\n",
    "\n",
    "    tensor_i = torch.tensor(i)\n",
    "    x = radius * torch.cos(tensor_i)\n",
    "    y = radius * torch.sin(tensor_i)\n",
    "\n",
    "    x = x.int()\n",
    "    y = y.int()\n",
    "\n",
    "    gen_img[x+radius][y-radius] = 0\n",
    "\n",
    "print(gen_img)\n",
    "print(gen_img.shape)\n",
    "plt.imshow(gen_img, cmap=\"gray\")\n",
    "plt.show()\n",
    "\n",
    "# Since it is a image it can also be downloaded\n",
    "torchvision.utils.save_image(gen_img, './images/gen_img.jpg')"
   ]
  },
  {
   "cell_type": "markdown",
   "metadata": {},
   "source": [
    "### YCbCr and RGB\n",
    "<a href=\"https://www.youtube.com/watch?v=3dET-EoIMM8\">YCbCr and RGB<a/>"
   ]
  },
  {
   "cell_type": "code",
   "execution_count": null,
   "metadata": {},
   "outputs": [],
   "source": [
    "# Getting R G B individually from a image \n",
    "rgb_img = read_image('./images/RGB.jpg')\n",
    "\n",
    "#red, green, blue = rgb_img # Can also be accessed with index no. - rgb_img[1]\n",
    "#axs[i].imshow(red)\n",
    "\n",
    "fig, axs = plt.subplots(1, 3, figsize=(6, 4))\n",
    "\n",
    "rgb_list = ['Red', 'Green', 'Blue']\n",
    "\n",
    "for i in range(len(rgb_list)):\n",
    "    axs[i].imshow(rgb_img[i]) # Getting the 3 channels separately\n",
    "    axs[i].set_title(rgb_list[i])\n"
   ]
  },
  {
   "cell_type": "code",
   "execution_count": null,
   "metadata": {},
   "outputs": [],
   "source": [
    "img = read_image('./images/turtle.jpg')\n",
    "\n",
    "print(f\"Before grayscle: {img.shape}\") # [3, 50, 50], Here 3 is channel\n",
    "print(img.type) # Its a Tensor type\n",
    "\n",
    "# RGB to Grayscale\n",
    "img = torchvision.transforms.functional.rgb_to_grayscale(img, 1)\n",
    "print(f\"After grayscle: {img.shape}\") # [3, 50, 50] -> [1, 50, 50]\n",
    "\n",
    "img = img.squeeze() # Removes channel - [1, W, H] -> [W, H], all input of size 1 removed\n",
    "\n",
    "print(f\"Image shape after squeezing: {img.shape}\")"
   ]
  },
  {
   "cell_type": "code",
   "execution_count": null,
   "metadata": {},
   "outputs": [],
   "source": [
    "plt.imshow(img, cmap=\"gray\")\n",
    "plt.show()"
   ]
  },
  {
   "cell_type": "code",
   "execution_count": null,
   "metadata": {},
   "outputs": [],
   "source": [
    "print(img)\n",
    "#torchvision.utils.save_image(img, 'fp.jpg')"
   ]
  },
  {
   "cell_type": "markdown",
   "metadata": {},
   "source": [
    "## CNN from PyTorch Documentation"
   ]
  },
  {
   "cell_type": "code",
   "execution_count": 2,
   "metadata": {},
   "outputs": [],
   "source": [
    "# Custom Dataset from PyTorch Documentation\n",
    "class CustomImageDataset(Dataset):\n",
    "    def __init__(self, annotations_file, img_dir, transform=None, target_transform=None):\n",
    "        self.img_labels = pd.read_csv(annotations_file)\n",
    "        self.img_dir = img_dir\n",
    "        self.transform = transform\n",
    "        self.target_transform = target_transform\n",
    "\n",
    "    def __len__(self):\n",
    "        return len(self.img_labels)\n",
    "\n",
    "    def __getitem__(self, idx):\n",
    "        img_path = os.path.join(self.img_dir, self.img_labels.iloc[idx, 0])\n",
    "        image = read_image(img_path)\n",
    "        label = self.img_labels.iloc[idx, 1]\n",
    "        if self.transform:\n",
    "            image = self.transform(image)\n",
    "        if self.target_transform:\n",
    "            label = self.target_transform(label)\n",
    "\n",
    "        return image, label"
   ]
  },
  {
   "cell_type": "code",
   "execution_count": 3,
   "metadata": {},
   "outputs": [],
   "source": [
    "transform = transforms.Compose([\n",
    "    # transforms.ToTensor(), \n",
    "    # transforms.Normalize((0.5, 0.5, 0.5), (0.5, 0.5, 0.5)), \n",
    "    # transforms.Grayscale()\n",
    "])"
   ]
  },
  {
   "cell_type": "code",
   "execution_count": 4,
   "metadata": {},
   "outputs": [],
   "source": [
    "dataset = CustomImageDataset(img_dir = 'img_dir', \n",
    "                             annotations_file = 'labels.csv', \n",
    "                             transform = transform)"
   ]
  },
  {
   "cell_type": "code",
   "execution_count": 5,
   "metadata": {},
   "outputs": [],
   "source": [
    "train_set, valid_set, test_set = torch.utils.data.random_split(dataset, [0.6, 0.2, 0.2])"
   ]
  },
  {
   "cell_type": "code",
   "execution_count": 6,
   "metadata": {},
   "outputs": [],
   "source": [
    "train_dataloader = DataLoader(train_set, batch_size=1, shuffle=True)\n",
    "valid_dataloader = DataLoader(valid_set, batch_size=1, shuffle=True)\n",
    "test_dataloader = DataLoader(test_set, batch_size=1, shuffle=True)"
   ]
  },
  {
   "cell_type": "markdown",
   "metadata": {},
   "source": [
    "plt.imshow(img) cannot display image if it is [3, H, W] we use img.permute(1, 2, 0) to make it [H, W, 3] for displaying<br/>\n",
    "<a href=\"https://matplotlib.org/3.3.3/api/_as_gen/matplotlib.pyplot.imshow.html\">(M, N, 3)</a>"
   ]
  },
  {
   "cell_type": "code",
   "execution_count": null,
   "metadata": {},
   "outputs": [],
   "source": [
    "# Display image and label.\n",
    "train_features, train_labels = next(iter(train_dataloader))\n",
    "print(f\"Feature batch shape: {train_features.size()}\")\n",
    "print(f\"Labels batch shape: {train_labels.size()}\")\n",
    "img = train_features[0].permute(1, 2, 0)\n",
    "label = train_labels[0]\n",
    "\n",
    "print(img.shape)\n",
    "#print(img)\n",
    "plt.imshow(img)\n",
    "plt.show()\n",
    "print(f\"Label: {label}\")"
   ]
  },
  {
   "cell_type": "code",
   "execution_count": 53,
   "metadata": {},
   "outputs": [],
   "source": [
    "class CNN(nn.Module):\n",
    "    def __init__(self):\n",
    "        super().__init__()\n",
    "        self.afterFlattenInputNeurons = 900\n",
    "\n",
    "        # Image Shape - torch.Size([50, 50, 3])\n",
    "        # Convolution Layer 1 (sees 50x50x3 image tensor)\n",
    "        self.conv1 = nn.Conv2d(3, 100, 3, padding = 1) # 3 is Channel, 25 is output filtered image, 3 is filter size\n",
    "        \n",
    "        #After adding Maxpooling - dimensionality of the image will decrease\n",
    "        # Formula: output_size = (input_size - filter_size + 1) / stride\n",
    "        \n",
    "        # Convolution Layer 2 (sees 25x25x25 image tensor), Here the last 25 is that mentioned in 2nd parameter of conv1\n",
    "        self.conv2 = nn.Conv2d(100, 50, 3, padding = 1)\n",
    "        # Convolution Layer 3 (sees 12x12x50 image tensor)\n",
    "        self.conv3 = nn.Conv2d(50, 25, 3, padding = 1)\n",
    "\n",
    "        self.pool = nn.MaxPool2d(2, 2) #(filter/kernel size, stride)\n",
    "\n",
    "        self.activ = nn.ReLU()\n",
    "\n",
    "        self.dropout = nn.Dropout(0.25)\n",
    "\n",
    "        self.linear_stack = nn.Sequential(\n",
    "            nn.Linear(self.afterFlattenInputNeurons, 100), \n",
    "            nn.ReLU(),\n",
    "            nn.Linear(100, 50),\n",
    "            nn.ReLU(),\n",
    "            nn.Linear(50, 2),\n",
    "        )\n",
    "\n",
    "    def forward(self, x):\n",
    "        \n",
    "        x = self.pool(self.activ(self.conv1(x)))\n",
    "        x = self.pool(self.activ(self.conv2(x)))\n",
    "        x = self.pool(self.activ(self.conv3(x)))\n",
    "        \n",
    "        # Comment below code to get x output shape from convolution\n",
    "        # Flattening\n",
    "        x = x.view(-1, self.afterFlattenInputNeurons)\n",
    "        # Avoid overfitting\n",
    "        x = self.dropout(x)\n",
    "        x = self.linear_stack(x)\n",
    "        return x"
   ]
  },
  {
   "cell_type": "code",
   "execution_count": null,
   "metadata": {},
   "outputs": [],
   "source": [
    "model = CNN()\n",
    "print(model)"
   ]
  },
  {
   "cell_type": "code",
   "execution_count": null,
   "metadata": {},
   "outputs": [],
   "source": [
    "# ONLY TO GET LINEAR LAYER INPUT\n",
    "\n",
    "dataIter = iter(train_dataloader)\n",
    "# Get first item\n",
    "img, label = next(dataIter)\n",
    "\n",
    "# print(img.shape)\n",
    "\n",
    "#afterFlattenInputNeurons\n",
    "print(\"Dimension to be put in the first Linear layer\", model.forward(img.float()).shape)\n",
    "#Dimension to be put in the first Linear layer torch.Size([1, 20, 6, 6]) - 1x20x6x6 = 720\n"
   ]
  },
  {
   "cell_type": "code",
   "execution_count": 56,
   "metadata": {},
   "outputs": [],
   "source": [
    "# Change hyperparameters only for Validation dataset\n",
    "\n",
    "learning_rate = 1e-3\n",
    "#batch_size = 2\n",
    "epochs = 30"
   ]
  },
  {
   "cell_type": "code",
   "execution_count": 57,
   "metadata": {},
   "outputs": [],
   "source": [
    "# Initialize the loss function\n",
    "loss_fn = nn.CrossEntropyLoss()\n",
    "# PyTorch's Cross Entrpy Function applies a Softmax function to the output layer\n",
    "# So we do not mention Softmax activation function to the output layer \n",
    "\n",
    "# Use Adam optimizer\n",
    "optimizer = torch.optim.Adam(model.parameters(), lr=learning_rate)"
   ]
  },
  {
   "cell_type": "code",
   "execution_count": 58,
   "metadata": {},
   "outputs": [],
   "source": [
    "def train_loop():\n",
    "    size = len(train_dataloader)\n",
    "    accumulate_loss = 0\n",
    "    \n",
    "    for img, label in train_dataloader: \n",
    "        # print(img)\n",
    "        # print(label)\n",
    "\n",
    "        pred = model(img.float())\n",
    "        loss = loss_fn(pred, label)\n",
    "    \n",
    "        # Backpropagation\n",
    "        loss.backward() # Find Gradients\n",
    "        optimizer.step() # Update weights\n",
    "        optimizer.zero_grad()\n",
    "\n",
    "        accumulate_loss += loss.item()\n",
    "        #train_loss = loss.item()\n",
    "\n",
    "        \n",
    "    return accumulate_loss/size\n",
    "\n",
    "            "
   ]
  },
  {
   "cell_type": "code",
   "execution_count": 59,
   "metadata": {},
   "outputs": [],
   "source": [
    "def valid_loop():\n",
    "    size = len(valid_dataloader)\n",
    "    accumulate_loss = 0\n",
    "    \n",
    "    for img, label in valid_dataloader: \n",
    "\n",
    "        pred = model(img.float())\n",
    "        loss = loss_fn(pred, label)\n",
    "\n",
    "        accumulate_loss += loss.item()\n",
    "        #train_loss = loss.item()\n",
    "\n",
    "        \n",
    "    return accumulate_loss/size"
   ]
  },
  {
   "cell_type": "code",
   "execution_count": null,
   "metadata": {},
   "outputs": [],
   "source": [
    "x = [x+1 for x in range(epochs)]\n",
    "\n",
    "trainLossArr = []\n",
    "validLossArr = []\n",
    "\n",
    "for i in range(epochs):\n",
    "    \n",
    "    # Train\n",
    "    train_loss = train_loop()\n",
    "    trainLossArr.append(train_loss)\n",
    "\n",
    "    # Valid\n",
    "    valid_loss = train_loop()\n",
    "    validLossArr.append(valid_loss)\n",
    "\n",
    "    print(f\"Epoch {i+1} - Training Loss: {train_loss}, Validation Loss: {valid_loss}\")\n",
    " \n",
    "\n",
    "plt.plot(x, trainLossArr, 'b', label=\"Train\")\n",
    "plt.plot(x, validLossArr, 'g', label=\"Valid\")\n",
    "plt.legend(loc=\"upper right\")\n",
    "plt.xlabel(\"Epochs\")\n",
    "plt.ylabel(\"Loss\")\n",
    "plt.show()"
   ]
  },
  {
   "cell_type": "code",
   "execution_count": null,
   "metadata": {},
   "outputs": [],
   "source": [
    "torch.save(model.state_dict(), 'model.pt')\n",
    "model.load_state_dict(torch.load('model.pt', weights_only=True))\n",
    "#model.eval()"
   ]
  },
  {
   "cell_type": "code",
   "execution_count": null,
   "metadata": {},
   "outputs": [],
   "source": [
    "correct = 0\n",
    "for img, label in test_dataloader:\n",
    "\n",
    "    pred = model(img.float())\n",
    "\n",
    "    if torch.argmax(pred) == label.squeeze():\n",
    "        correct += 1\n",
    "accuracy = correct/len(test_dataloader)*100\n",
    "print(f\"Accuracy: {accuracy}\")\n"
   ]
  },
  {
   "cell_type": "code",
   "execution_count": null,
   "metadata": {},
   "outputs": [],
   "source": []
  }
 ],
 "metadata": {
  "kernelspec": {
   "display_name": ".venv",
   "language": "python",
   "name": "python3"
  },
  "language_info": {
   "codemirror_mode": {
    "name": "ipython",
    "version": 3
   },
   "file_extension": ".py",
   "mimetype": "text/x-python",
   "name": "python",
   "nbconvert_exporter": "python",
   "pygments_lexer": "ipython3",
   "version": "3.8.10"
  }
 },
 "nbformat": 4,
 "nbformat_minor": 2
}
